{
 "cells": [
  {
   "cell_type": "code",
   "execution_count": 17,
   "id": "47be9a0f",
   "metadata": {},
   "outputs": [],
   "source": [
    "import pandas as pd\n",
    "import numpy as np\n",
    "import matplotlib.pyplot as plt\n",
    "import seaborn as sns\n",
    "import sklearn.tree \n",
    "from sklearn.tree import DecisionTreeRegressor\n",
    "from sklearn.ensemble import GradientBoostingClassifier\n",
    "from sklearn.ensemble import GradientBoostingRegressor\n",
    "from sklearn.model_selection import cross_validate\n",
    "from sklearn.metrics import roc_auc_score,roc_curve\n",
    "from sklearn.preprocessing import StandardScaler\n",
    "import yfinance as yf\n",
    "from yahoo_fin.stock_info import get_earnings_history\n",
    "from fredapi import Fred\n",
    "from dotenv import load_dotenv\n",
    "import os\n",
    "import pandas_datareader as web\n",
    "import lightgbm as lgb\n",
    "import shap\n",
    "from datetime import datetime,timedelta\n",
    "import pickle\n",
    "import gbdt_module as mod\n"
   ]
  },
  {
   "cell_type": "code",
   "execution_count": 2,
   "id": "f6b4fea0",
   "metadata": {},
   "outputs": [
    {
     "name": "stdout",
     "output_type": "stream",
     "text": [
      "[*********************100%***********************]  1 of 1 completed\n",
      "[*********************100%***********************]  1 of 1 completed\n"
     ]
    }
   ],
   "source": [
    "#From yahoo\n",
    "sp_500 = yf.download(tickers=\"^GSPC\",start=\"1995-01-01\",interval=\"1d\")\n",
    "#Download data from FRED API\n",
    "load_dotenv() #Create environment variable\n",
    "API_KEY = os.getenv(\"API_KEY\") #Get API_KEY from .env file\n",
    "fred = Fred(api_key = API_KEY)\n",
    "###*****Don't change order of the series names*****###\n",
    "series_fred = ['BAMLC0A0CM','BAMLH0A0HYM2','DCOILWTICO','DTB3','DGS5','DGS10','DGS30','T5YIE','T10YIE','T10Y2Y','T10Y3M','VIXCLS','DEXUSEU','DEXJPUS','DEXUSUK','DEXCHUS']\n",
    "start_fred = '1/1/1995'\n",
    "ticker_yf = '^GSPC'\n",
    "start_yf = '1995-01-01'\n",
    "interval='1d'\n",
    "series_names = ['ig_spread','hy_spread','wti','treas_3m','treas_5y','treas_10y','treas_30y','binf_5y','binf_10y','y10_y2','y10_m3','vix','eur','jpy','gbp','cny']\n",
    "\n",
    "fred_series,sp_data = mod.download_data(fred,series_fred,start_fred,ticker_yf,start_yf,interval,series_names)\n",
    "\n"
   ]
  },
  {
   "cell_type": "code",
   "execution_count": 3,
   "id": "6b57b1e0",
   "metadata": {},
   "outputs": [],
   "source": [
    "\"\"\" Features:\n",
    "1. S&P 500 returns variance - 5 day,10 day and 21 day\n",
    "2. IG and HY spread\n",
    "3. Change in IG and HY spread in bps\n",
    "4. Change in crude oil prices\n",
    "5. 3m,5y,10y and 30y yields\n",
    "6. Change in 3m,5y,10y,30y in bps\n",
    "7. 5y and 10y breakeven inflation\n",
    "8. Change in 5y,10y breakeven in bps\n",
    "9. 2s10s,3m10s\n",
    "10. Change in 2s10s,3m10s\n",
    "11. VIX and change in VIX\n",
    "12. Change in currencies\n",
    "\"\"\"\n",
    "data_0,feature_num,sp_return5,sp_return10,sp_return15 = mod.derive_features(fred_series,sp_data)\n"
   ]
  },
  {
   "cell_type": "code",
   "execution_count": 350,
   "id": "b0bfeacc",
   "metadata": {},
   "outputs": [
    {
     "data": {
      "text/plain": [
       "0.05   -0.063382\n",
       "0.10   -0.042189\n",
       "0.15   -0.030648\n",
       "0.20   -0.020853\n",
       "0.25   -0.013444\n",
       "0.50    0.009856\n",
       "0.90    0.046676\n",
       "Name: Adj Close, dtype: float64"
      ]
     },
     "execution_count": 350,
     "metadata": {},
     "output_type": "execute_result"
    }
   ],
   "source": [
    "#Let's check their percentile distribution\n",
    "#N E E D   A   P L O T\n",
    "\n"
   ]
  },
  {
   "cell_type": "code",
   "execution_count": null,
   "id": "f79b0856",
   "metadata": {},
   "outputs": [],
   "source": [
    "########################################################## Light GBM ###############################################################################"
   ]
  },
  {
   "cell_type": "code",
   "execution_count": 4,
   "id": "b6a9bbd8",
   "metadata": {},
   "outputs": [],
   "source": [
    "#Create target series\n",
    "percentile_list = [5,10,15,20,25]\n",
    "y_5d = mod.create_target_series(sp_return5,percentile_list,f_horizon=5)\n",
    "y_10d = mod.create_target_series(sp_return10,percentile_list,f_horizon=10)\n",
    "y_15d = mod.create_target_series(sp_return15,percentile_list,f_horizon=15)\n",
    "#Reindex features data\n",
    "data_5d = mod.reindex_features_data(data_0,5,y_5d)\n",
    "data_10d = mod.reindex_features_data(data_0,10,y_10d)\n",
    "data_15d = mod.reindex_features_data(data_0,15,y_15d)\n",
    "#Create feature list\n",
    "f_names = ['sp_var5','sp_var10','sp_var21','ig_spread','ig_change','hy_spread','hy_change','wti_change','treas3m_change','treas5y_change','treas10y_change','treas30y_change','binf5_change','binf10_change','y10_y2','y10_m3','y10_m3change','y10_y2change','vix_change','eur_change','jpy_change','gbp_change','cny_change']\n",
    "features_names = pd.DataFrame(f_names,feature_num)\n"
   ]
  },
  {
   "cell_type": "code",
   "execution_count": null,
   "id": "42740e27",
   "metadata": {},
   "outputs": [],
   "source": [
    "############################################################# 10 -day ahead model ########################################################################"
   ]
  },
  {
   "cell_type": "code",
   "execution_count": 5,
   "id": "f0f80565",
   "metadata": {},
   "outputs": [],
   "source": [
    "#Train-test split\n",
    "train_size,valid_size,test_size = mod.data_split_size(data_10d,0.75)\n",
    "x_train,y_train,x_valid,y_valid,x_test,y_test = mod.data_split(data_10d,y_10d,train_size,valid_size,test_size)"
   ]
  },
  {
   "cell_type": "code",
   "execution_count": 131,
   "id": "499ebcca",
   "metadata": {},
   "outputs": [
    {
     "data": {
      "text/html": [
       "<div>\n",
       "<style scoped>\n",
       "    .dataframe tbody tr th:only-of-type {\n",
       "        vertical-align: middle;\n",
       "    }\n",
       "\n",
       "    .dataframe tbody tr th {\n",
       "        vertical-align: top;\n",
       "    }\n",
       "\n",
       "    .dataframe thead th {\n",
       "        text-align: right;\n",
       "    }\n",
       "</style>\n",
       "<table border=\"1\" class=\"dataframe\">\n",
       "  <thead>\n",
       "    <tr style=\"text-align: right;\">\n",
       "      <th></th>\n",
       "      <th>0</th>\n",
       "      <th>1</th>\n",
       "      <th>2</th>\n",
       "      <th>3</th>\n",
       "      <th>4</th>\n",
       "    </tr>\n",
       "    <tr>\n",
       "      <th>Date</th>\n",
       "      <th></th>\n",
       "      <th></th>\n",
       "      <th></th>\n",
       "      <th></th>\n",
       "      <th></th>\n",
       "    </tr>\n",
       "  </thead>\n",
       "  <tbody>\n",
       "    <tr>\n",
       "      <th>1995-01-10</th>\n",
       "      <td>0.0</td>\n",
       "      <td>0.0</td>\n",
       "      <td>0.0</td>\n",
       "      <td>0.0</td>\n",
       "      <td>0.0</td>\n",
       "    </tr>\n",
       "    <tr>\n",
       "      <th>1995-01-11</th>\n",
       "      <td>0.0</td>\n",
       "      <td>0.0</td>\n",
       "      <td>0.0</td>\n",
       "      <td>0.0</td>\n",
       "      <td>0.0</td>\n",
       "    </tr>\n",
       "    <tr>\n",
       "      <th>1995-01-12</th>\n",
       "      <td>0.0</td>\n",
       "      <td>0.0</td>\n",
       "      <td>0.0</td>\n",
       "      <td>0.0</td>\n",
       "      <td>0.0</td>\n",
       "    </tr>\n",
       "    <tr>\n",
       "      <th>1995-01-13</th>\n",
       "      <td>0.0</td>\n",
       "      <td>0.0</td>\n",
       "      <td>0.0</td>\n",
       "      <td>0.0</td>\n",
       "      <td>0.0</td>\n",
       "    </tr>\n",
       "    <tr>\n",
       "      <th>1995-01-16</th>\n",
       "      <td>0.0</td>\n",
       "      <td>0.0</td>\n",
       "      <td>0.0</td>\n",
       "      <td>0.0</td>\n",
       "      <td>0.0</td>\n",
       "    </tr>\n",
       "    <tr>\n",
       "      <th>...</th>\n",
       "      <td>...</td>\n",
       "      <td>...</td>\n",
       "      <td>...</td>\n",
       "      <td>...</td>\n",
       "      <td>...</td>\n",
       "    </tr>\n",
       "    <tr>\n",
       "      <th>2023-01-30</th>\n",
       "      <td>0.0</td>\n",
       "      <td>0.0</td>\n",
       "      <td>0.0</td>\n",
       "      <td>0.0</td>\n",
       "      <td>0.0</td>\n",
       "    </tr>\n",
       "    <tr>\n",
       "      <th>2023-01-31</th>\n",
       "      <td>0.0</td>\n",
       "      <td>0.0</td>\n",
       "      <td>0.0</td>\n",
       "      <td>0.0</td>\n",
       "      <td>0.0</td>\n",
       "    </tr>\n",
       "    <tr>\n",
       "      <th>2023-02-01</th>\n",
       "      <td>0.0</td>\n",
       "      <td>0.0</td>\n",
       "      <td>0.0</td>\n",
       "      <td>0.0</td>\n",
       "      <td>0.0</td>\n",
       "    </tr>\n",
       "    <tr>\n",
       "      <th>2023-02-02</th>\n",
       "      <td>0.0</td>\n",
       "      <td>0.0</td>\n",
       "      <td>1.0</td>\n",
       "      <td>1.0</td>\n",
       "      <td>1.0</td>\n",
       "    </tr>\n",
       "    <tr>\n",
       "      <th>2023-02-03</th>\n",
       "      <td>0.0</td>\n",
       "      <td>0.0</td>\n",
       "      <td>0.0</td>\n",
       "      <td>0.0</td>\n",
       "      <td>1.0</td>\n",
       "    </tr>\n",
       "  </tbody>\n",
       "</table>\n",
       "<p>7068 rows × 5 columns</p>\n",
       "</div>"
      ],
      "text/plain": [
       "              0    1    2    3    4\n",
       "Date                               \n",
       "1995-01-10  0.0  0.0  0.0  0.0  0.0\n",
       "1995-01-11  0.0  0.0  0.0  0.0  0.0\n",
       "1995-01-12  0.0  0.0  0.0  0.0  0.0\n",
       "1995-01-13  0.0  0.0  0.0  0.0  0.0\n",
       "1995-01-16  0.0  0.0  0.0  0.0  0.0\n",
       "...         ...  ...  ...  ...  ...\n",
       "2023-01-30  0.0  0.0  0.0  0.0  0.0\n",
       "2023-01-31  0.0  0.0  0.0  0.0  0.0\n",
       "2023-02-01  0.0  0.0  0.0  0.0  0.0\n",
       "2023-02-02  0.0  0.0  1.0  1.0  1.0\n",
       "2023-02-03  0.0  0.0  0.0  0.0  1.0\n",
       "\n",
       "[7068 rows x 5 columns]"
      ]
     },
     "execution_count": 131,
     "metadata": {},
     "output_type": "execute_result"
    }
   ],
   "source": [
    "y_5d"
   ]
  },
  {
   "cell_type": "code",
   "execution_count": 6,
   "id": "510b49da",
   "metadata": {},
   "outputs": [
    {
     "name": "stdout",
     "output_type": "stream",
     "text": [
      "[LightGBM] [Warning] Unknown parameter: bossting_type\n",
      "[LightGBM] [Warning] Unknown parameter: ojective\n",
      "[LightGBM] [Warning] Unknown parameter: bossting_type\n",
      "[LightGBM] [Warning] Unknown parameter: ojective\n",
      "[LightGBM] [Warning] Auto-choosing col-wise multi-threading, the overhead of testing was 0.000947 seconds.\n",
      "You can set `force_col_wise=true` to remove the overhead.\n",
      "[1]\ttraining's binary_logloss: 0.573832\n",
      "[2]\ttraining's binary_logloss: 0.568599\n",
      "[3]\ttraining's binary_logloss: 0.564466\n",
      "[4]\ttraining's binary_logloss: 0.560054\n",
      "[5]\ttraining's binary_logloss: 0.556411\n",
      "[6]\ttraining's binary_logloss: 0.552753\n",
      "[7]\ttraining's binary_logloss: 0.549849\n",
      "[8]\ttraining's binary_logloss: 0.54691\n",
      "[9]\ttraining's binary_logloss: 0.543421\n",
      "[10]\ttraining's binary_logloss: 0.541022\n",
      "Training - The ROC AUC of model's prediction is: 0.7467834286222181\n",
      "Validation - The ROC AUC of model's prediction is: 0.5350637915027613\n"
     ]
    }
   ],
   "source": [
    "#config\n",
    "#10-day 5th percentile\n",
    "# params_10d1 = {\n",
    "#     'bossting_type': 'gbdt',\n",
    "#     'ojective': 'binary',\n",
    "#     'is_training_mteric': True,\n",
    "#     'metric': 'binary_logloss',\n",
    "#     'num_leaves':16, \n",
    "#     'learning_rate': 0.05,\n",
    "#     'feature_fraction': 0.9,\n",
    "#     'bagging_fraction':0.6,\n",
    "#     'bagging_freq':5,\n",
    "#     'verbose': 0\n",
    "# }\n",
    "# params_10d2 = {\n",
    "#     'bossting_type': 'gbdt',\n",
    "#     'ojective': 'binary',\n",
    "#     'metric': 'binary_logloss',\n",
    "#     'is_training_metric': True,\n",
    "#     'num_leaves':27, \n",
    "#     'learning_rate': 0.05,\n",
    "#     'feature_fraction': 0.9,\n",
    "#     'bagging_fraction':0.8,\n",
    "#     'bagging_freq':5,\n",
    "#     'verbose': 0\n",
    "# }\n",
    "\n",
    "# params_10d3 = {\n",
    "#     'bossting_type': 'gbdt',\n",
    "#     'ojective': 'binary',\n",
    "#     'metric': 'binary_logloss',\n",
    "#     'is_training_metric': True,\n",
    "#     'num_leaves':41, \n",
    "#     'learning_rate': 0.05,\n",
    "#     'feature_fraction': 0.9,\n",
    "#     'bagging_fraction':0.8,\n",
    "#     'bagging_freq':5,\n",
    "#     'verbose': 0\n",
    "# }\n",
    "\n",
    "\n",
    "# params_10d4 = {\n",
    "#     'bossting_type': 'gbdt',\n",
    "#     'ojective': 'binary',\n",
    "#     'metric': 'binary_logloss',\n",
    "#     'is_training_metric': True,\n",
    "#     'num_leaves':31, \n",
    "#     'learning_rate': 0.05,\n",
    "#     'feature_fraction': 0.9,\n",
    "#     'bagging_fraction':0.6,\n",
    "#     'bagging_freq':5,\n",
    "#     'verbose': 0\n",
    "# }\n",
    "\n",
    "\n",
    "params_10d5 = {\n",
    "    'bossting_type': 'gbdt',\n",
    "    'ojective': 'binary',\n",
    "    'metric': 'binary_logloss',\n",
    "    'is_training_metric': True,\n",
    "    'num_leaves':15, \n",
    "    'learning_rate': 0.05,\n",
    "    'feature_fraction': 0.9,\n",
    "    'bagging_fraction':0.6,\n",
    "    'bagging_freq':5,\n",
    "    'verbose': 0\n",
    "}\n",
    "###### 5-day ahead model 1 ######\n",
    "\n",
    "#def lightgbm_3rounds(x_train,y_train,y_valid,y_test,params,num_boost,feature_num,f_horizon,):\n",
    "\n",
    "\n",
    "#create a dataset for lightgbm\n",
    "lgb_train= lgb.Dataset(x_train,y_train.iloc[:,4],free_raw_data=False)\n",
    "lgb_eval = lgb.Dataset(x_valid,y_valid.iloc[:,4],reference=lgb_train,free_raw_data=False)\n",
    "y_train_target = y_train.iloc[:,4]\n",
    "y_valid_target = y_valid.iloc[:,4]\n",
    "y_test_target = y_test.iloc[:,4]\n",
    "#other lgbm inputs\n",
    "valid_set = lgb_train\n",
    "num_boost=10\n",
    "f_horizon = 10\n",
    "\n",
    "######Start training first 10 rounds ######\n",
    "\n",
    "gbm,y_pred_train,auc_train_model = mod.train_first_rounds(params_10d5,lgb_train,num_boost,valid_set,feature_num,x_train,y_train_target)\n",
    "gbm.save_model('model_10d5.txt')\n",
    "saved_model = 'model_10d5.txt'\n",
    "\n",
    "######Validate ######\n",
    "\n",
    "bst,y_pred_valid,auc_loaded_model = mod.validate(saved_model,x_valid,y_valid_target)\n",
    "\n"
   ]
  },
  {
   "cell_type": "code",
   "execution_count": 10,
   "id": "2377995f",
   "metadata": {},
   "outputs": [
    {
     "name": "stdout",
     "output_type": "stream",
     "text": [
      "[LightGBM] [Warning] Unknown parameter: bossting_type\n",
      "[LightGBM] [Warning] Unknown parameter: ojective\n",
      "[LightGBM] [Warning] Unknown parameter: bossting_type\n",
      "[LightGBM] [Warning] Unknown parameter: ojective\n",
      "[LightGBM] [Warning] Unknown parameter: bossting_type\n",
      "[LightGBM] [Warning] Unknown parameter: ojective\n",
      "[LightGBM] [Warning] Unknown parameter: bossting_type\n",
      "[LightGBM] [Warning] Unknown parameter: ojective\n",
      "[LightGBM] [Warning] Unknown parameter: bossting_type\n",
      "[LightGBM] [Warning] Unknown parameter: ojective\n",
      "[LightGBM] [Warning] Unknown parameter: bossting_type\n",
      "[LightGBM] [Warning] Unknown parameter: ojective\n",
      "[LightGBM] [Warning] Unknown parameter: bossting_type\n",
      "[LightGBM] [Warning] Unknown parameter: ojective\n",
      "[LightGBM] [Warning] Auto-choosing col-wise multi-threading, the overhead of testing was 0.001402 seconds.\n",
      "You can set `force_col_wise=true` to remove the overhead.\n",
      "Training - The ROC AUC of model's prediction is: 0.7959704707481838\n",
      "Validation - The ROC AUC of model's prediction is: 0.4882323101807985\n"
     ]
    }
   ],
   "source": [
    "######Start training next 10 rounds with learning decay ######\n",
    "prev_model = gbm\n",
    "valid_set = lgb_eval\n",
    "learning_param = 0.05\n",
    "gbm,y_pred_train,auc_train_model = mod.train_second_rounds(params_10d5,lgb_train,num_boost,prev_model,valid_set,feature_num,x_train,y_train_target,learning_param)\n",
    "gbm.save_model('model_10d5_learning_decay.txt')\n",
    "saved_model = 'model_10d5_learning_decay.txt'\n",
    "\n",
    "######Validate ######\n",
    "\n",
    "bst,y_pred_valid,auc_loaded_model = mod.validate(saved_model,x_valid,y_valid_target)\n",
    "\n"
   ]
  },
  {
   "cell_type": "code",
   "execution_count": 11,
   "id": "2a2c410f",
   "metadata": {},
   "outputs": [
    {
     "name": "stdout",
     "output_type": "stream",
     "text": [
      "[LightGBM] [Warning] Unknown parameter: bossting_type\n",
      "[LightGBM] [Warning] Unknown parameter: ojective\n",
      "[LightGBM] [Warning] Unknown parameter: bossting_type\n",
      "[LightGBM] [Warning] Unknown parameter: ojective\n",
      "[LightGBM] [Warning] Unknown parameter: bossting_type\n",
      "[LightGBM] [Warning] Unknown parameter: ojective\n",
      "[LightGBM] [Warning] Unknown parameter: bossting_type\n",
      "[LightGBM] [Warning] Unknown parameter: ojective\n",
      "[LightGBM] [Warning] Unknown parameter: bossting_type\n",
      "[LightGBM] [Warning] Unknown parameter: ojective\n",
      "[LightGBM] [Warning] Unknown parameter: bossting_type\n",
      "[LightGBM] [Warning] Unknown parameter: ojective\n",
      "[LightGBM] [Warning] Unknown parameter: bossting_type\n",
      "[LightGBM] [Warning] Unknown parameter: ojective\n",
      "[LightGBM] [Warning] Auto-choosing col-wise multi-threading, the overhead of testing was 0.001025 seconds.\n",
      "You can set `force_col_wise=true` to remove the overhead.\n",
      "Training until validation scores don't improve for 5 rounds\n",
      "Early stopping, best iteration is:\n",
      "[33]\tvalid_0's binary_logloss: 0.490976\n",
      "Training - The ROC AUC of model's prediction is: 0.7976179851475895\n",
      "Validation - The ROC AUC of model's prediction is: 0.4813506761995004\n"
     ]
    }
   ],
   "source": [
    "######Start training next 10 rounds with early stopping ######\n",
    "prev_model = gbm\n",
    "stopping_rounds = 5\n",
    "gbm,y_pred_train,auc_train_model = mod.train_third_rounds(params_10d5,lgb_train,num_boost,prev_model,valid_set,feature_num,stopping_rounds,x_train,y_train_target)\n",
    "gbm.save_model('model_10d5_early_stopping.txt')\n",
    "saved_model = 'model_10d5_early_stopping.txt'\n",
    "\n",
    "######Validate ######\n",
    "bst,y_pred_valid,auc_loaded_model = mod.validate(saved_model,x_valid,y_valid_target)\n",
    "\n"
   ]
  },
  {
   "cell_type": "code",
   "execution_count": 19,
   "id": "eea44ccf",
   "metadata": {},
   "outputs": [
    {
     "ename": "NameError",
     "evalue": "name 'model_name' is not defined",
     "output_type": "error",
     "traceback": [
      "\u001b[1;31m---------------------------------------------------------------------------\u001b[0m",
      "\u001b[1;31mNameError\u001b[0m                                 Traceback (most recent call last)",
      "\u001b[1;32m<ipython-input-19-807c2a9c5c9a>\u001b[0m in \u001b[0;36m<module>\u001b[1;34m\u001b[0m\n\u001b[0;32m      1\u001b[0m \u001b[1;31m######Test ########\u001b[0m\u001b[1;33m\u001b[0m\u001b[1;33m\u001b[0m\u001b[1;33m\u001b[0m\u001b[0m\n\u001b[1;32m----> 2\u001b[1;33m \u001b[0mbst\u001b[0m\u001b[1;33m,\u001b[0m\u001b[0my_pred_test\u001b[0m\u001b[1;33m,\u001b[0m\u001b[0mauc_test_model\u001b[0m \u001b[1;33m=\u001b[0m \u001b[0mmod\u001b[0m\u001b[1;33m.\u001b[0m\u001b[0mtest_final_model\u001b[0m\u001b[1;33m(\u001b[0m\u001b[0msaved_model\u001b[0m\u001b[1;33m,\u001b[0m\u001b[0mx_test\u001b[0m\u001b[1;33m,\u001b[0m\u001b[0my_test_target\u001b[0m\u001b[1;33m,\u001b[0m\u001b[0mmodel_name\u001b[0m\u001b[1;33m)\u001b[0m\u001b[1;33m\u001b[0m\u001b[1;33m\u001b[0m\u001b[0m\n\u001b[0m\u001b[0;32m      3\u001b[0m \u001b[1;33m\u001b[0m\u001b[0m\n\u001b[0;32m      4\u001b[0m \u001b[1;33m\u001b[0m\u001b[0m\n\u001b[0;32m      5\u001b[0m \u001b[1;33m\u001b[0m\u001b[0m\n",
      "\u001b[1;31mNameError\u001b[0m: name 'model_name' is not defined"
     ]
    }
   ],
   "source": [
    "######Test ########\n",
    "bst,y_pred_test,auc_test_model = mod.test_final_model(saved_model,x_test,y_test_target,model_name)\n",
    "\n",
    "\n",
    "\n",
    "\n",
    "\n",
    "\n"
   ]
  },
  {
   "cell_type": "code",
   "execution_count": null,
   "id": "d63073e0",
   "metadata": {},
   "outputs": [],
   "source": [
    "######Full sample model run ######\n",
    "lgb_train = lgb.Dataset(data_10d,y_10d.iloc[:,4],free_raw_data=False)\n",
    "valid_set = lgb_train\n",
    "data_full_sample = data_10d\n",
    "y_full_sample = y_10d.iloc[:,4]\n",
    "\n",
    "gbm = mod.full_sample_model(params_10d5,lgb_train,num_boost,valid_set,feature_num,stopping_rounds,data_full_sample,y_full_sample,learning_param)\n",
    "gbm.save_model('model_10d5_full_sample.txt')\n",
    "saved_model = 'model_10d5_full_sample.txt'\n",
    "\n",
    "full_sample_preds,auc_full_model =  mod.full_sample_predict(saved_model,data_full_sample,y_full_sample)\n",
    "\n",
    "#######Pickle 5day ahead model#######\n",
    "\n",
    "with open('10day_ahead_10d5.pkl','wb') as fout:\n",
    "    pickle.dump(gbm,fout)\n",
    "\n",
    "\n",
    "######Sample including the last 5 days#######\n",
    "with open('10day_ahead_10d5.pkl','rb') as fin:\n",
    "    pkl_10day_25thp = pickle.load(fin)\n",
    "\n",
    "y_pred_10day = pkl_10day_25thp.predict(data_0)\n",
    "\n",
    "######Feature importance######\n",
    "#print(f\"Fetaure importances: {list(gbm.feature_importance())}\")\n",
    "#SHAP values\n",
    "mod.plot_shap(gbm,data_0,f_names)\n",
    "\n",
    "\n",
    "\n",
    "\n"
   ]
  },
  {
   "cell_type": "code",
   "execution_count": 102,
   "id": "0faa6d2f",
   "metadata": {},
   "outputs": [
    {
     "data": {
      "image/png": "[encoded data removed]",
      "text/plain": [
       "<Figure size 1080x1080 with 3 Axes>"
      ]
     },
     "metadata": {
      "needs_background": "light"
     },
     "output_type": "display_data"
    }
   ],
   "source": [
    "######plot model predictions#####\n",
    "percentile=25\n",
    "mod.plot_predictions(f_horizon,y_pred_10day,percentile,data_0)\n"
   ]
  },
  {
   "cell_type": "code",
   "execution_count": null,
   "id": "6c97da10",
   "metadata": {},
   "outputs": [],
   "source": []
  }
 ],
 "metadata": {
  "kernelspec": {
   "display_name": "base",
   "language": "python",
   "name": "python3"
  },
  "language_info": {
   "codemirror_mode": {
    "name": "ipython",
    "version": 3
   },
   "file_extension": ".py",
   "mimetype": "text/x-python",
   "name": "python",
   "nbconvert_exporter": "python",
   "pygments_lexer": "ipython3",
   "version": "3.8.8"
  },
  "latex_envs": {
   "LaTeX_envs_menu_present": true,
   "autoclose": false,
   "autocomplete": true,
   "bibliofile": "biblio.bib",
   "cite_by": "apalike",
   "current_citInitial": 1,
   "eqLabelWithNumbers": true,
   "eqNumInitial": 1,
   "hotkeys": {
    "equation": "Ctrl-E",
    "itemize": "Ctrl-I"
   },
   "labels_anchors": false,
   "latex_user_defs": false,
   "report_style_numbering": false,
   "user_envs_cfg": false
  },
  "nbTranslate": {
   "displayLangs": [
    "*"
   ],
   "hotkey": "alt-t",
   "langInMainMenu": true,
   "sourceLang": "en",
   "targetLang": "fr",
   "useGoogleTranslate": true
  },
  "toc": {
   "base_numbering": 1,
   "nav_menu": {},
   "number_sections": true,
   "sideBar": true,
   "skip_h1_title": false,
   "title_cell": "Table of Contents",
   "title_sidebar": "Contents",
   "toc_cell": false,
   "toc_position": {},
   "toc_section_display": true,
   "toc_window_display": false
  },
  "vscode": {
   "interpreter": {
    "hash": "ad2bdc8ecc057115af97d19610ffacc2b4e99fae6737bb82f5d7fb13d2f2c186"
   }
  }
 },
 "nbformat": 4,
 "nbformat_minor": 5
}
