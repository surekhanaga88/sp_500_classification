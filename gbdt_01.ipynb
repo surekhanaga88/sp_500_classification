{
 "cells": [
  {
   "cell_type": "code",
   "execution_count": 239,
   "id": "47be9a0f",
   "metadata": {},
   "outputs": [],
   "source": [
    "import pandas as pd\n",
    "import numpy as np\n",
    "import matplotlib.pyplot as plt\n",
    "import seaborn as sns\n",
    "import sklearn.tree \n",
    "from sklearn.tree import DecisionTreeRegressor\n",
    "from sklearn.ensemble import GradientBoostingClassifier\n",
    "from sklearn.ensemble import GradientBoostingRegressor\n",
    "from sklearn.model_selection import cross_validate\n",
    "from sklearn.metrics import roc_auc_score\n",
    "import yfinance as yf\n",
    "from yahoo_fin.stock_info import get_earnings_history\n",
    "from fredapi import Fred\n",
    "from dotenv import load_dotenv\n",
    "import os\n",
    "import pandas_datareader as web\n",
    "import lightgbm as lgb"
   ]
  },
  {
   "cell_type": "code",
   "execution_count": 90,
   "id": "f6b4fea0",
   "metadata": {},
   "outputs": [
    {
     "name": "stdout",
     "output_type": "stream",
     "text": [
      "[*********************100%***********************]  1 of 1 completed\n"
     ]
    }
   ],
   "source": [
    "\n",
    "#From yahoo\n",
    "sp_500 = yf.download(tickers=\"^GSPC\",start=\"1995-01-01\",interval=\"1d\")\n",
    "#Download data from FRED API\n",
    "load_dotenv() #Create environment variable\n",
    "API_KEY = os.getenv(\"API_KEY\") #Get API_KEY from .env file\n",
    "fred = Fred(api_key = API_KEY) \n",
    "ig_spread = fred.get_series('BAMLC0A0CM',observation_start='1/1/1995') #Investment grade vs treasury\n",
    "hy_spread = fred.get_series('BAMLH0A0HYM2',observation_start='1/1/1995') #High yield vs treasury\n",
    "wti = fred.get_series('DCOILWTICO',observation_start='1/1/1995') #WTI - Cushing\n",
    "treas_3m = fred.get_series('DTB3',observation_start='1/1/1995') #3m treasury bill\n",
    "treas_5y = fred.get_series('DGS5',observation_start='1/1/1995') #5y treasury bond\n",
    "treas_10y = fred.get_series('DGS10',observation_start='1/1/1995') #10y treasury bond\n",
    "treas_30y = fred.get_series('DGS30',observation_start='1/1/1995') #30y treasury bond\n",
    "binf_5y = fred.get_series('T5YIE',observation_start='1/1/1995') #5y break even inflation\n",
    "binf_10y = fred.get_series('T10YIE',observation_start='1/1/1995') #10y break even inflation\n",
    "y10_y2 = fred.get_series('T10Y2Y',observation_start='1/1/1995') #2s10s\n",
    "y10_m3 = fred.get_series('T10Y3M',observation_start='1/1/1995') #3m10s\n",
    "vix = fred.get_series('VIXCLS',observation_start='1/1/1995') #vix\n",
    "eur = fred.get_series('DEXUSEU',observation_start='1/1/1995') #uerusd\n",
    "jpy = fred.get_series('DEXJPUS',observation_start='1/1/1995') #jpy\n",
    "gbp = fred.get_series('DEXUSUK',observation_start='1/1/1995') #gbp\n",
    "cny = fred.get_series('DEXCHUS', observation_start='1/1/1995') #cny\n",
    "\n",
    "\n",
    "\n"
   ]
  },
  {
   "cell_type": "code",
   "execution_count": 27,
   "id": "1621c6b5",
   "metadata": {},
   "outputs": [],
   "source": [
    "#Function for checking if there are NaNs\n",
    "#If there are then fill the NaNs using linear interpolation\n",
    "def interpolate_na(data):\n",
    "    if data.isnull().sum().sum()==0:\n",
    "        return data\n",
    "    else:\n",
    "        return data.interpolate(limit_direction='both')"
   ]
  },
  {
   "cell_type": "code",
   "execution_count": 210,
   "id": "6b57b1e0",
   "metadata": {},
   "outputs": [],
   "source": [
    "#Create return variable - target\n",
    "sp_data = interpolate_na(sp_500['Adj Close']) #Check for NA and interpolate if any found\n",
    "sp_return = sp_data.pct_change()\n",
    "sp_return5 = sp_data.pct_change(periods=5) #5days ahead\n",
    "sp_return10 = sp_data.pct_change(periods=10) #10 days ahead\n",
    "sp_return15 = sp_data.pct_change(periods=15) #15 days ahead"
   ]
  },
  {
   "cell_type": "code",
   "execution_count": 96,
   "id": "d56f8756",
   "metadata": {},
   "outputs": [
    {
     "data": {
      "text/plain": [
       "Date\n",
       "1995-01-03         NaN\n",
       "1995-01-04         NaN\n",
       "1995-01-05         NaN\n",
       "1995-01-06         NaN\n",
       "1995-01-09         NaN\n",
       "                ...   \n",
       "2023-01-31    0.014850\n",
       "2023-02-01    0.025644\n",
       "2023-02-02    0.029388\n",
       "2023-02-03    0.016194\n",
       "2023-02-06    0.023224\n",
       "Name: Adj Close, Length: 7074, dtype: float64"
      ]
     },
     "execution_count": 96,
     "metadata": {},
     "output_type": "execute_result"
    }
   ],
   "source": [
    "sp_return5"
   ]
  },
  {
   "cell_type": "code",
   "execution_count": null,
   "id": "ef77f7d2",
   "metadata": {},
   "outputs": [],
   "source": [
    "\"\"\" Features:\n",
    "1. S&P 500 returns variance - 5 day,10 day and 21 day\n",
    "2. IG and HY spread\n",
    "3. Change in IG and HY spread in bps\n",
    "4. Change in crude oil prices\n",
    "5. 3m,5y,10y and 30y yields\n",
    "6. Change in 3m,5y,10y,30y in bps\n",
    "7. 5y and 10y breakeven inflation\n",
    "8. Change in 5y,10y breakeven in bps\n",
    "9. 2s10s,3m10s\n",
    "10. Change in 2s10s,3m10s\n",
    "11. VIX and change in VIX\n",
    "12. Change in currencies\n",
    "\"\"\""
   ]
  },
  {
   "cell_type": "code",
   "execution_count": 97,
   "id": "0db3468f",
   "metadata": {},
   "outputs": [],
   "source": [
    "#Rolling-window variance S&P 500 returns\n",
    "sp_var5 = sp_return.rolling(5).var()\n",
    "sp_var10 = sp_return.rolling(10).var()\n",
    "sp_var21 = sp_return.rolling(21).var()"
   ]
  },
  {
   "cell_type": "code",
   "execution_count": 170,
   "id": "c2718781",
   "metadata": {},
   "outputs": [],
   "source": [
    "#Corporate spreads\n",
    "ig_spread = interpolate_na(ig_spread)\n",
    "hy_spread = interpolate_na(hy_spread)\n",
    "#Change in spreads\n",
    "ig_change = ig_spread.diff()*100\n",
    "hy_change = hy_spread.diff()*100"
   ]
  },
  {
   "cell_type": "code",
   "execution_count": 61,
   "id": "233f2d32",
   "metadata": {},
   "outputs": [],
   "source": [
    "#Change in wti\n",
    "wti = interpolate_na(wti)\n",
    "wti_change = wti.pct_change()"
   ]
  },
  {
   "cell_type": "code",
   "execution_count": 62,
   "id": "4f430398",
   "metadata": {},
   "outputs": [],
   "source": [
    "#Yields\n",
    "treas_3m = interpolate_na(treas_3m)\n",
    "treas_5y = interpolate_na(treas_5y)\n",
    "treas_10y = interpolate_na(treas_10y)\n",
    "treas_30y = interpolate_na(treas_30y)\n",
    "#Change in yields\n",
    "treas3m_change = treas_3m.diff()*100 #Change in bps\n",
    "treas5y_change = treas_5y.diff()*100\n",
    "treas10y_change = treas_10y.diff()*100\n",
    "treas30y_change = treas_30y.diff()*100\n"
   ]
  },
  {
   "cell_type": "code",
   "execution_count": 63,
   "id": "0182353f",
   "metadata": {},
   "outputs": [],
   "source": [
    "#Breakeven yields\n",
    "binf_5y = interpolate_na(binf_5y)\n",
    "binf_10y = interpolate_na(binf_10y)\n",
    "#Change in breakeven yields\n",
    "binf5_change = binf_5y.diff()*100\n",
    "binf10_change = binf_10y.diff()*100"
   ]
  },
  {
   "cell_type": "code",
   "execution_count": 66,
   "id": "7f7690ab",
   "metadata": {},
   "outputs": [],
   "source": [
    "#2s10s and 3m10s\n",
    "y10_y2 = interpolate_na(y10_y2)\n",
    "y10_m3 = interpolate_na(y10_m3)\n",
    "#Change\n",
    "y10_y2change = y10_y2.diff()*100\n",
    "y10_m3change = y10_m3.diff()*100"
   ]
  },
  {
   "cell_type": "code",
   "execution_count": 67,
   "id": "80d40985",
   "metadata": {},
   "outputs": [],
   "source": [
    "# VIX and change\n",
    "vix = interpolate_na(vix)\n",
    "vix_change = vix.pct_change()"
   ]
  },
  {
   "cell_type": "code",
   "execution_count": 68,
   "id": "ced6f0a9",
   "metadata": {},
   "outputs": [],
   "source": [
    "#ccy returns\n",
    "eur = interpolate_na(eur)\n",
    "jpy = interpolate_na(jpy)\n",
    "gbp = interpolate_na(gbp)\n",
    "cny = interpolate_na(cny)\n",
    "#ccy change\n",
    "eur_change = eur.pct_change()\n",
    "jpy_change = jpy.pct_change()\n",
    "gbp_change = gbp.pct_change()\n",
    "cny_change = cny.pct_change()\n"
   ]
  },
  {
   "cell_type": "code",
   "execution_count": 211,
   "id": "2c23e151",
   "metadata": {},
   "outputs": [],
   "source": [
    "#Make binary target series\n",
    "#\n",
    "sp_binary1 = np.where(sp_return5<-0.04,1,0) #returns in next 5 days less than -4%\n",
    "sp_binary2 = np.where(sp_return5<-0.02,1,0) #returns in next 5 days less than -2%\n",
    "sp_binary3 = np.where((0<sp_return5) & (sp_return5<0.02),1,0) #returns in next 5 days between 0-2%\n",
    "sp_binary4 = np.where((0.02<sp_return5) & (sp_return5<0.04),1,0) #returns in next 5 days between 2-4%\n",
    "sp_binary5 = np.where(sp_return5>0.04,1,0) #returns in next 5 days more than 4%\n",
    "sp_binary6 = np.where(sp_return5<np.percentile(sp_return5,5),1,0) #returns in next 5 days less than historical 5 percentile\n",
    "\n",
    "sp_binary7 = np.where(sp_return10<-0.04,1,0) #returns in next 10 days less than -4%\n",
    "sp_binary8 = np.where(sp_return10<-0.02,1,0) #returns in next 10 days less than -2%\n",
    "sp_binary9 = np.where((0<sp_return10) & (sp_return10<0.02),1,0) #returns in next 10 days between 0-2%\n",
    "sp_binary10 = np.where((0.02<sp_return10) & (sp_return10<0.04),1,0) #returns in next 10 days between 2-4%\n",
    "sp_binary11= np.where(sp_return10>0.04,1,0) #returns in next 10 days more than 4%\n",
    "sp_binary12 = np.where(sp_return10<np.percentile(sp_return10,5),1,0) #returns in next 10 days less than historical 5 percentile\n",
    "\n",
    "sp_binary13 = np.where(sp_return15<-0.04,1,0) #returns in next 15 days less than -4%\n",
    "sp_binary14 = np.where(sp_return15<-0.02,1,0) #returns in next 15 days less than -2%\n",
    "sp_binary15 = np.where((0<sp_return15) & (sp_return15<0.02),1,0) #returns in next 15 days between 0-2%\n",
    "sp_binary16 = np.where((0.02<sp_return15) & (sp_return15<0.04),1,0) #returns in next 15 days between 2-4%\n",
    "sp_binary17= np.where(sp_return15>0.04,1,0) #returns in next 15 days more than 4%\n",
    "sp_binary18 = np.where(sp_return15<np.percentile(sp_return15,5),1,0) #returns in next 15 days less than historical 5 percentile\n"
   ]
  },
  {
   "cell_type": "code",
   "execution_count": 207,
   "id": "734dc2e2",
   "metadata": {},
   "outputs": [],
   "source": [
    "#Full dataset\n",
    "data_0 = pd.concat([sp_var5,sp_var10,sp_var21,ig_spread,ig_change,hy_spread,hy_change,wti_change,treas3m_change,treas5y_change,treas10y_change,treas30y_change,binf5_change,binf10_change,y10_y2,y10_m3,y10_m3change,y10_y2change,vix_change,eur_change,jpy_change,gbp_change,cny_change],axis=1)\n",
    "data_0 = interpolate_na(data_0)\n",
    "num_data,num_feature = data_0.shape\n",
    "feature_name = [f'f_{col}' for col in range(num_feature)]\n",
    "data_0.columns = feature_name\n",
    "data_0 = data_0.drop(index=data_0.index[0],axis=0) #Dropping first row to match number of rows with target\n"
   ]
  },
  {
   "cell_type": "code",
   "execution_count": 225,
   "id": "b6a9bbd8",
   "metadata": {},
   "outputs": [],
   "source": [
    "#5-day ahead target\n",
    "df_5d1 = pd.DataFrame(sp_binary1,index=sp_return5.index)\n",
    "df_5d1 = df_5d1.shift(-5) #5-day ahead return\n",
    "df_5d1 = df_5d1.iloc[:-5,:] #Last 5 rows dropped\n",
    "#5-day ahead data\n",
    "data_5d = data_0.iloc[:-5,:] #Last 5 rows dropped\n",
    "#Merge date indices\n",
    "common_idx = df_5d1.index.intersection(data_5d.index)\n",
    "data_5d = data_5d.loc[common_idx]"
   ]
  },
  {
   "cell_type": "code",
   "execution_count": 237,
   "id": "4c23f5e7",
   "metadata": {},
   "outputs": [],
   "source": [
    "# Split data into training, validation and test set\n",
    "def data_split_size(data, train_share):\n",
    "    train_size = int(len(data)*train_share)\n",
    "    valid_size = int((len(data)-train_size)/2)\n",
    "    test_size = valid_size\n",
    "    return train_size,valid_size,test_size\n",
    "\n",
    "train_size,valid_size,test_size = data_split_size(data_5d,0.75)\n",
    "x_train = data_5d.iloc[:train_size,:]\n",
    "y_train = df_5d1.iloc[:train_size]\n",
    "x_valid = data_5d.iloc[train_size:train_size+valid_size,:]\n",
    "y_valid = df_5d1.iloc[train_size:train_size+valid_size]\n",
    "x_test = data_5d.iloc[-test_size:,:]\n",
    "y_test = df_5d1.iloc[-test_size]\n"
   ]
  },
  {
   "cell_type": "code",
   "execution_count": null,
   "id": "1a5ad046",
   "metadata": {},
   "outputs": [],
   "source": [
    "# create a dataset for lightgbm\n",
    "lgb_train = lgb"
   ]
  }
 ],
 "metadata": {
  "kernelspec": {
   "display_name": "base",
   "language": "python",
   "name": "python3"
  },
  "language_info": {
   "codemirror_mode": {
    "name": "ipython",
    "version": 3
   },
   "file_extension": ".py",
   "mimetype": "text/x-python",
   "name": "python",
   "nbconvert_exporter": "python",
   "pygments_lexer": "ipython3",
   "version": "3.8.8"
  },
  "latex_envs": {
   "LaTeX_envs_menu_present": true,
   "autoclose": false,
   "autocomplete": true,
   "bibliofile": "biblio.bib",
   "cite_by": "apalike",
   "current_citInitial": 1,
   "eqLabelWithNumbers": true,
   "eqNumInitial": 1,
   "hotkeys": {
    "equation": "Ctrl-E",
    "itemize": "Ctrl-I"
   },
   "labels_anchors": false,
   "latex_user_defs": false,
   "report_style_numbering": false,
   "user_envs_cfg": false
  },
  "nbTranslate": {
   "displayLangs": [
    "*"
   ],
   "hotkey": "alt-t",
   "langInMainMenu": true,
   "sourceLang": "en",
   "targetLang": "fr",
   "useGoogleTranslate": true
  },
  "toc": {
   "base_numbering": 1,
   "nav_menu": {},
   "number_sections": true,
   "sideBar": true,
   "skip_h1_title": false,
   "title_cell": "Table of Contents",
   "title_sidebar": "Contents",
   "toc_cell": false,
   "toc_position": {},
   "toc_section_display": true,
   "toc_window_display": false
  },
  "vscode": {
   "interpreter": {
    "hash": "ad2bdc8ecc057115af97d19610ffacc2b4e99fae6737bb82f5d7fb13d2f2c186"
   }
  }
 },
 "nbformat": 4,
 "nbformat_minor": 5
}
