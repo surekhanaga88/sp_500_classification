{
 "cells": [
  {
   "cell_type": "code",
   "execution_count": 482,
   "id": "47be9a0f",
   "metadata": {},
   "outputs": [],
   "source": [
    "import pandas as pd\n",
    "import numpy as np\n",
    "import matplotlib.pyplot as plt\n",
    "import seaborn as sns\n",
    "import sklearn.tree \n",
    "from sklearn.tree import DecisionTreeRegressor\n",
    "from sklearn.ensemble import GradientBoostingClassifier\n",
    "from sklearn.ensemble import GradientBoostingRegressor\n",
    "from sklearn.model_selection import cross_validate\n",
    "from sklearn.metrics import roc_auc_score\n",
    "from sklearn.preprocessing import StandardScaler\n",
    "import yfinance as yf\n",
    "from yahoo_fin.stock_info import get_earnings_history\n",
    "from fredapi import Fred\n",
    "from dotenv import load_dotenv\n",
    "import os\n",
    "import pandas_datareader as web\n",
    "import lightgbm as lgb\n",
    "import shap\n",
    "from datetime import datetime,timedelta\n"
   ]
  },
  {
   "cell_type": "code",
   "execution_count": 421,
   "id": "f6b4fea0",
   "metadata": {},
   "outputs": [
    {
     "name": "stdout",
     "output_type": "stream",
     "text": [
      "[*********************100%***********************]  1 of 1 completed\n"
     ]
    }
   ],
   "source": [
    "\n",
    "#From yahoo\n",
    "sp_500 = yf.download(tickers=\"^GSPC\",start=\"1995-01-01\",interval=\"1d\")\n",
    "#Download data from FRED API\n",
    "load_dotenv() #Create environment variable\n",
    "API_KEY = os.getenv(\"API_KEY\") #Get API_KEY from .env file\n",
    "fred = Fred(api_key = API_KEY) \n",
    "ig_spread = fred.get_series('BAMLC0A0CM',observation_start='1/1/1995') #Investment grade vs treasury\n",
    "hy_spread = fred.get_series('BAMLH0A0HYM2',observation_start='1/1/1995') #High yield vs treasury\n",
    "wti = fred.get_series('DCOILWTICO',observation_start='1/1/1995') #WTI - Cushing\n",
    "treas_3m = fred.get_series('DTB3',observation_start='1/1/1995') #3m treasury bill\n",
    "treas_5y = fred.get_series('DGS5',observation_start='1/1/1995') #5y treasury bond\n",
    "treas_10y = fred.get_series('DGS10',observation_start='1/1/1995') #10y treasury bond\n",
    "treas_30y = fred.get_series('DGS30',observation_start='1/1/1995') #30y treasury bond\n",
    "binf_5y = fred.get_series('T5YIE',observation_start='1/1/1995') #5y break even inflation\n",
    "binf_10y = fred.get_series('T10YIE',observation_start='1/1/1995') #10y break even inflation\n",
    "y10_y2 = fred.get_series('T10Y2Y',observation_start='1/1/1995') #2s10s\n",
    "y10_m3 = fred.get_series('T10Y3M',observation_start='1/1/1995') #3m10s\n",
    "vix = fred.get_series('VIXCLS',observation_start='1/1/1995') #vix\n",
    "eur = fred.get_series('DEXUSEU',observation_start='1/1/1995') #uerusd\n",
    "jpy = fred.get_series('DEXJPUS',observation_start='1/1/1995') #jpy\n",
    "gbp = fred.get_series('DEXUSUK',observation_start='1/1/1995') #gbp\n",
    "cny = fred.get_series('DEXCHUS', observation_start='1/1/1995') #cny\n",
    "\n",
    "\n",
    "\n"
   ]
  },
  {
   "cell_type": "code",
   "execution_count": 422,
   "id": "1621c6b5",
   "metadata": {},
   "outputs": [],
   "source": [
    "#Function for checking if there are NaNs\n",
    "#If there are then fill the NaNs using linear interpolation\n",
    "def interpolate_na(data):\n",
    "    if data.isnull().sum().sum()==0:\n",
    "        return data\n",
    "    else:\n",
    "        return data.interpolate(limit_direction='both')"
   ]
  },
  {
   "cell_type": "code",
   "execution_count": 423,
   "id": "6b57b1e0",
   "metadata": {},
   "outputs": [],
   "source": [
    "#Create return variable - target\n",
    "sp_data = interpolate_na(sp_500['Adj Close']) #Check for NA and interpolate if any found\n",
    "sp_return = sp_data.pct_change()\n",
    "sp_return5 = sp_data.pct_change(periods=5) #5days ahead\n",
    "sp_return10 = sp_data.pct_change(periods=10) #10 days ahead\n",
    "sp_return15 = sp_data.pct_change(periods=15) #15 days ahead"
   ]
  },
  {
   "cell_type": "code",
   "execution_count": 424,
   "id": "d56f8756",
   "metadata": {},
   "outputs": [
    {
     "data": {
      "text/plain": [
       "Date\n",
       "1995-01-03         NaN\n",
       "1995-01-04         NaN\n",
       "1995-01-05         NaN\n",
       "1995-01-06         NaN\n",
       "1995-01-09         NaN\n",
       "                ...   \n",
       "2023-02-02    0.029388\n",
       "2023-02-03    0.016194\n",
       "2023-02-06    0.023224\n",
       "2023-02-07    0.021439\n",
       "2023-02-08   -0.000328\n",
       "Name: Adj Close, Length: 7076, dtype: float64"
      ]
     },
     "execution_count": 424,
     "metadata": {},
     "output_type": "execute_result"
    }
   ],
   "source": [
    "sp_return5"
   ]
  },
  {
   "cell_type": "code",
   "execution_count": null,
   "id": "ef77f7d2",
   "metadata": {},
   "outputs": [],
   "source": [
    "\"\"\" Features:\n",
    "1. S&P 500 returns variance - 5 day,10 day and 21 day\n",
    "2. IG and HY spread\n",
    "3. Change in IG and HY spread in bps\n",
    "4. Change in crude oil prices\n",
    "5. 3m,5y,10y and 30y yields\n",
    "6. Change in 3m,5y,10y,30y in bps\n",
    "7. 5y and 10y breakeven inflation\n",
    "8. Change in 5y,10y breakeven in bps\n",
    "9. 2s10s,3m10s\n",
    "10. Change in 2s10s,3m10s\n",
    "11. VIX and change in VIX\n",
    "12. Change in currencies\n",
    "\"\"\""
   ]
  },
  {
   "cell_type": "code",
   "execution_count": 425,
   "id": "0db3468f",
   "metadata": {},
   "outputs": [],
   "source": [
    "#Rolling-window variance S&P 500 returns\n",
    "sp_var5 = sp_return.rolling(5).var()\n",
    "sp_var10 = sp_return.rolling(10).var()\n",
    "sp_var21 = sp_return.rolling(21).var()"
   ]
  },
  {
   "cell_type": "code",
   "execution_count": 426,
   "id": "c2718781",
   "metadata": {},
   "outputs": [],
   "source": [
    "#Corporate spreads\n",
    "ig_spread = interpolate_na(ig_spread)\n",
    "hy_spread = interpolate_na(hy_spread)\n",
    "#Change in spreads\n",
    "ig_change = ig_spread.diff()*100\n",
    "hy_change = hy_spread.diff()*100"
   ]
  },
  {
   "cell_type": "code",
   "execution_count": 427,
   "id": "233f2d32",
   "metadata": {},
   "outputs": [],
   "source": [
    "#Change in wti\n",
    "wti = interpolate_na(wti)\n",
    "wti_change = wti.pct_change()"
   ]
  },
  {
   "cell_type": "code",
   "execution_count": 428,
   "id": "4f430398",
   "metadata": {},
   "outputs": [],
   "source": [
    "#Yields\n",
    "treas_3m = interpolate_na(treas_3m)\n",
    "treas_5y = interpolate_na(treas_5y)\n",
    "treas_10y = interpolate_na(treas_10y)\n",
    "treas_30y = interpolate_na(treas_30y)\n",
    "#Change in yields\n",
    "treas3m_change = treas_3m.diff()*100 #Change in bps\n",
    "treas5y_change = treas_5y.diff()*100\n",
    "treas10y_change = treas_10y.diff()*100\n",
    "treas30y_change = treas_30y.diff()*100\n"
   ]
  },
  {
   "cell_type": "code",
   "execution_count": 429,
   "id": "0182353f",
   "metadata": {},
   "outputs": [],
   "source": [
    "#Breakeven yields\n",
    "binf_5y = interpolate_na(binf_5y)\n",
    "binf_10y = interpolate_na(binf_10y)\n",
    "#Change in breakeven yields\n",
    "binf5_change = binf_5y.diff()*100\n",
    "binf10_change = binf_10y.diff()*100"
   ]
  },
  {
   "cell_type": "code",
   "execution_count": 430,
   "id": "7f7690ab",
   "metadata": {},
   "outputs": [],
   "source": [
    "#2s10s and 3m10s\n",
    "y10_y2 = interpolate_na(y10_y2)\n",
    "y10_m3 = interpolate_na(y10_m3)\n",
    "#Change\n",
    "y10_y2change = y10_y2.diff()*100\n",
    "y10_m3change = y10_m3.diff()*100"
   ]
  },
  {
   "cell_type": "code",
   "execution_count": 431,
   "id": "80d40985",
   "metadata": {},
   "outputs": [],
   "source": [
    "# VIX and change\n",
    "vix = interpolate_na(vix)\n",
    "vix_change = vix.pct_change()"
   ]
  },
  {
   "cell_type": "code",
   "execution_count": 432,
   "id": "ced6f0a9",
   "metadata": {},
   "outputs": [],
   "source": [
    "#ccy returns\n",
    "eur = interpolate_na(eur)\n",
    "jpy = interpolate_na(jpy)\n",
    "gbp = interpolate_na(gbp)\n",
    "cny = interpolate_na(cny)\n",
    "#ccy change\n",
    "eur_change = eur.pct_change()\n",
    "jpy_change = jpy.pct_change()\n",
    "gbp_change = gbp.pct_change()\n",
    "cny_change = cny.pct_change()\n"
   ]
  },
  {
   "cell_type": "code",
   "execution_count": 433,
   "id": "8afb0094",
   "metadata": {},
   "outputs": [],
   "source": [
    "#Remove NaNs\n",
    "sp_return5 = sp_return5.dropna()\n",
    "sp_return10 = sp_return10.dropna()\n",
    "sp_return15 = sp_return15.dropna()"
   ]
  },
  {
   "cell_type": "code",
   "execution_count": 434,
   "id": "0b571772",
   "metadata": {},
   "outputs": [
    {
     "data": {
      "text/plain": [
       "-0.038807517503913036"
      ]
     },
     "execution_count": 434,
     "metadata": {},
     "output_type": "execute_result"
    }
   ],
   "source": [
    "np.percentile(sp_return5,5)"
   ]
  },
  {
   "cell_type": "code",
   "execution_count": 350,
   "id": "b0bfeacc",
   "metadata": {},
   "outputs": [
    {
     "data": {
      "text/plain": [
       "0.05   -0.063382\n",
       "0.10   -0.042189\n",
       "0.15   -0.030648\n",
       "0.20   -0.020853\n",
       "0.25   -0.013444\n",
       "0.50    0.009856\n",
       "0.90    0.046676\n",
       "Name: Adj Close, dtype: float64"
      ]
     },
     "execution_count": 350,
     "metadata": {},
     "output_type": "execute_result"
    }
   ],
   "source": [
    "#Let's check their distribution\n",
    "#N E E D   A   P L O T\n"
   ]
  },
  {
   "cell_type": "code",
   "execution_count": 435,
   "id": "2c23e151",
   "metadata": {},
   "outputs": [],
   "source": [
    "#Make binary target series\n",
    "\n",
    "sp_binary1 = np.where(sp_return5<np.percentile(sp_return5,5),1,0) #returns in next 5 days less than bottom 5%\n",
    "sp_binary2 = np.where(sp_return5<np.percentile(sp_return5,10),1,0) #returns in next 5 days less than bottom 10%\n",
    "sp_binary3 = np.where(sp_return5<np.percentile(sp_return5,15),1,0) #returns in next 5 days less than bottom 15%\n",
    "sp_binary4 = np.where(sp_return5<np.percentile(sp_return5,20),1,0) #returns in next 5 days less than bottom 20%\n",
    "sp_binary5 = np.where(sp_return5<np.percentile(sp_return5,25),1,0) #returns in next 5 days less than bottom 25%\n",
    "\n",
    "\n",
    "sp_binary6 = np.where(sp_return10<np.percentile(sp_return10,5),1,0) #returns in next 10 days less than historical 5 percentile\n",
    "sp_binary7 = np.where(sp_return10<np.percentile(sp_return10,10),1,0) #returns in next 10 days less than bottom 10%\n",
    "sp_binary8 = np.where(sp_return10<np.percentile(sp_return10,15),1,0) #returns in next 10 days less than bottom 15%\n",
    "sp_binary9 = np.where(sp_return10<np.percentile(sp_return10,20),1,0) #returns in next 10 days less than bottom 20%\n",
    "sp_binary10= np.where(sp_return10<np.percentile(sp_return10,25),1,0) #returns in next 10 days less than bottom 25%\n",
    "\n",
    "\n",
    "sp_binary11 = np.where(sp_return15<np.percentile(sp_return15,5),1,0) #returns in next 15 days less than historical 5 percentile\n",
    "sp_binary12 = np.where(sp_return15<np.percentile(sp_return15,10),1,0) #returns in next 15 days less than bottom 10%\n",
    "sp_binary13 = np.where(sp_return15<np.percentile(sp_return15,15),1,0) #returns in next 15 days less than bottom 15%\n",
    "sp_binary14 = np.where(sp_return15<np.percentile(sp_return15,20),1,0) #returns in next 15 days less than bottom 20%\n",
    "sp_binary15= np.where(sp_return15<np.percentile(sp_return15,25),1,0) #returns in next 15 days less than bottom 25%"
   ]
  },
  {
   "cell_type": "code",
   "execution_count": 436,
   "id": "734dc2e2",
   "metadata": {},
   "outputs": [],
   "source": [
    "#Full dataset\n",
    "data_0 = pd.concat([sp_var5,sp_var10,sp_var21,ig_spread,ig_change,hy_spread,hy_change,wti_change,treas3m_change,treas5y_change,treas10y_change,treas30y_change,binf5_change,binf10_change,y10_y2,y10_m3,y10_m3change,y10_y2change,vix_change,eur_change,jpy_change,gbp_change,cny_change],axis=1)\n",
    "data_0 = interpolate_na(data_0)\n",
    "num_data,num_feature = data_0.shape\n",
    "feature_num = [f'f_{col}' for col in range(num_feature)]\n",
    "data_0.columns = feature_num\n",
    "data_0 = data_0.drop(index=data_0.index[0],axis=0) #Dropping first row \n"
   ]
  },
  {
   "cell_type": "code",
   "execution_count": 437,
   "id": "93b406b5",
   "metadata": {},
   "outputs": [
    {
     "data": {
      "text/html": [
       "<div>\n",
       "<style scoped>\n",
       "    .dataframe tbody tr th:only-of-type {\n",
       "        vertical-align: middle;\n",
       "    }\n",
       "\n",
       "    .dataframe tbody tr th {\n",
       "        vertical-align: top;\n",
       "    }\n",
       "\n",
       "    .dataframe thead th {\n",
       "        text-align: right;\n",
       "    }\n",
       "</style>\n",
       "<table border=\"1\" class=\"dataframe\">\n",
       "  <thead>\n",
       "    <tr style=\"text-align: right;\">\n",
       "      <th></th>\n",
       "      <th>0</th>\n",
       "    </tr>\n",
       "  </thead>\n",
       "  <tbody>\n",
       "    <tr>\n",
       "      <th>f_0</th>\n",
       "      <td>sp_var5</td>\n",
       "    </tr>\n",
       "    <tr>\n",
       "      <th>f_1</th>\n",
       "      <td>sp_var10</td>\n",
       "    </tr>\n",
       "    <tr>\n",
       "      <th>f_2</th>\n",
       "      <td>sp_var21</td>\n",
       "    </tr>\n",
       "    <tr>\n",
       "      <th>f_3</th>\n",
       "      <td>ig_spread</td>\n",
       "    </tr>\n",
       "    <tr>\n",
       "      <th>f_4</th>\n",
       "      <td>ig_change</td>\n",
       "    </tr>\n",
       "    <tr>\n",
       "      <th>f_5</th>\n",
       "      <td>hy_spread</td>\n",
       "    </tr>\n",
       "    <tr>\n",
       "      <th>f_6</th>\n",
       "      <td>hy_change</td>\n",
       "    </tr>\n",
       "    <tr>\n",
       "      <th>f_7</th>\n",
       "      <td>wti_change</td>\n",
       "    </tr>\n",
       "    <tr>\n",
       "      <th>f_8</th>\n",
       "      <td>treas3m_change</td>\n",
       "    </tr>\n",
       "    <tr>\n",
       "      <th>f_9</th>\n",
       "      <td>treas5y_change</td>\n",
       "    </tr>\n",
       "    <tr>\n",
       "      <th>f_10</th>\n",
       "      <td>treas10y_change</td>\n",
       "    </tr>\n",
       "    <tr>\n",
       "      <th>f_11</th>\n",
       "      <td>treas30y_change</td>\n",
       "    </tr>\n",
       "    <tr>\n",
       "      <th>f_12</th>\n",
       "      <td>binf5_change</td>\n",
       "    </tr>\n",
       "    <tr>\n",
       "      <th>f_13</th>\n",
       "      <td>binf10_change</td>\n",
       "    </tr>\n",
       "    <tr>\n",
       "      <th>f_14</th>\n",
       "      <td>y10_y2</td>\n",
       "    </tr>\n",
       "    <tr>\n",
       "      <th>f_15</th>\n",
       "      <td>y10_m3</td>\n",
       "    </tr>\n",
       "    <tr>\n",
       "      <th>f_16</th>\n",
       "      <td>y10_m3change</td>\n",
       "    </tr>\n",
       "    <tr>\n",
       "      <th>f_17</th>\n",
       "      <td>y10_y2change</td>\n",
       "    </tr>\n",
       "    <tr>\n",
       "      <th>f_18</th>\n",
       "      <td>vix_change</td>\n",
       "    </tr>\n",
       "    <tr>\n",
       "      <th>f_19</th>\n",
       "      <td>eur_change</td>\n",
       "    </tr>\n",
       "    <tr>\n",
       "      <th>f_20</th>\n",
       "      <td>jpy_change</td>\n",
       "    </tr>\n",
       "    <tr>\n",
       "      <th>f_21</th>\n",
       "      <td>gbp_change</td>\n",
       "    </tr>\n",
       "    <tr>\n",
       "      <th>f_22</th>\n",
       "      <td>cny_change</td>\n",
       "    </tr>\n",
       "  </tbody>\n",
       "</table>\n",
       "</div>"
      ],
      "text/plain": [
       "                    0\n",
       "f_0           sp_var5\n",
       "f_1          sp_var10\n",
       "f_2          sp_var21\n",
       "f_3         ig_spread\n",
       "f_4         ig_change\n",
       "f_5         hy_spread\n",
       "f_6         hy_change\n",
       "f_7        wti_change\n",
       "f_8    treas3m_change\n",
       "f_9    treas5y_change\n",
       "f_10  treas10y_change\n",
       "f_11  treas30y_change\n",
       "f_12     binf5_change\n",
       "f_13    binf10_change\n",
       "f_14           y10_y2\n",
       "f_15           y10_m3\n",
       "f_16     y10_m3change\n",
       "f_17     y10_y2change\n",
       "f_18       vix_change\n",
       "f_19       eur_change\n",
       "f_20       jpy_change\n",
       "f_21       gbp_change\n",
       "f_22       cny_change"
      ]
     },
     "execution_count": 437,
     "metadata": {},
     "output_type": "execute_result"
    }
   ],
   "source": [
    "#Create feature list\n",
    "f_names = ['sp_var5','sp_var10','sp_var21','ig_spread','ig_change','hy_spread','hy_change','wti_change','treas3m_change','treas5y_change','treas10y_change','treas30y_change','binf5_change','binf10_change','y10_y2','y10_m3','y10_m3change','y10_y2change','vix_change','eur_change','jpy_change','gbp_change','cny_change']\n",
    "features_names = pd.DataFrame(f_names,feature_num)\n",
    "features_names"
   ]
  },
  {
   "cell_type": "code",
   "execution_count": 587,
   "id": "155880c6",
   "metadata": {},
   "outputs": [],
   "source": [
    "########################################################## Split data ##############################################################################\n",
    "# Split data into training, validation and test set\n",
    "def data_split_size(data, train_share):\n",
    "    train_size = int(len(data)*train_share)\n",
    "    valid_size = int((len(data)-train_size)/2)\n",
    "    test_size = valid_size\n",
    "    return train_size,valid_size,test_size\n",
    "def data_split(x_data,y_data,train_size,valid_size,test_size):\n",
    "    x_train = x_data.iloc[:train_size,:]\n",
    "    y_train = y_data.iloc[:train_size,:]\n",
    "    x_valid = x_data.iloc[train_size:train_size+valid_size,:]\n",
    "    y_valid = y_data.iloc[train_size:train_size+valid_size,:]\n",
    "    x_test = x_data.iloc[-test_size:,:]\n",
    "    y_test = y_data.iloc[-test_size:,:]\n",
    "    return x_train,y_train,x_valid,y_valid,x_test,y_test"
   ]
  },
  {
   "cell_type": "code",
   "execution_count": null,
   "id": "f79b0856",
   "metadata": {},
   "outputs": [],
   "source": [
    "########################################################## Light GBM ###############################################################################"
   ]
  },
  {
   "cell_type": "code",
   "execution_count": 621,
   "id": "ae14b4f6",
   "metadata": {},
   "outputs": [],
   "source": [
    "#First rounds\n",
    "def train_first_rounds(params,lgb_train,num_boost,valid_set,feature_num,x_train,y_train_target):\n",
    "    gbm = lgb.train(params,\n",
    "                lgb_train,\n",
    "                num_boost_round=num_boost,\n",
    "                valid_sets=valid_set,\n",
    "                feature_name=feature_num,\n",
    "                ) \n",
    "    #ROC AUC for the training model\n",
    "    y_pred_train = gbm.predict(x_train)\n",
    "    auc_train_model = roc_auc_score(y_train_target,y_pred_train)\n",
    "    print(f\"Training - The ROC AUC of model's prediction is: {auc_train_model}\")\n",
    "    return gbm,y_pred_train,auc_train_model\n",
    "\n",
    "#Train next rounds with learning decay\n",
    "def train_second_rounds(params,lgb_train,num_boost,prev_model,valid_set,feature_num,x_train,y_train_target,learning_param):\n",
    "    gbm = lgb.train(params,\n",
    "                lgb_train,\n",
    "                num_boost_round=num_boost,\n",
    "                init_model=prev_model,\n",
    "                valid_sets=valid_set,\n",
    "                feature_name=feature_num,\n",
    "                callbacks = [lgb.reset_parameter(learning_rate=lambda iter:learning_param*(0.99 ** iter))]\n",
    "                )\n",
    "    #ROC AUC for the training model\n",
    "    y_pred_train = gbm.predict(x_train)\n",
    "    auc_train_model = roc_auc_score(y_train_target,y_pred_train)\n",
    "    print(f\"Training - The ROC AUC of model's prediction is: {auc_train_model}\")\n",
    "    return gbm,y_pred_train,auc_train_model\n",
    "\n",
    "\n",
    "#Train next rounds with early stopping call back\n",
    "def train_third_rounds(params,lgb_train,num_boost,prev_model,valid_set,feature_num,stopping_rounds,x_train,y_train_target):\n",
    "    gbm = lgb.train(params,\n",
    "                lgb_train,\n",
    "                num_boost_round=num_boost,\n",
    "                init_model=prev_model,\n",
    "                valid_sets=valid_set,\n",
    "                feature_name=feature_num,\n",
    "                callbacks = [lgb.early_stopping(stopping_rounds=stopping_rounds)])\n",
    "    #ROC AUC for the training model\n",
    "    y_pred_train = gbm.predict(x_train)\n",
    "    auc_train_model = roc_auc_score(y_train_target,y_pred_train)\n",
    "    print(f\"Training - The ROC AUC of model's prediction is: {auc_train_model}\")\n",
    "    return gbm,y_pred_train,auc_train_model\n",
    "\n",
    "#Validate\n",
    "def validate(saved_model,x_valid,y_valid_target):\n",
    "    #load model to predict on validation data\n",
    "    bst = lgb.Booster(model_file=saved_model)\n",
    "    y_pred_valid = bst.predict(x_valid)\n",
    "    #evaluate on validation data\n",
    "    auc_loaded_model = roc_auc_score(y_valid_target,y_pred_valid)\n",
    "    print(f\"Validation - The ROC AUC of model's prediction is: {auc_loaded_model}\")\n",
    "    return bst,y_pred_valid,auc_loaded_model\n",
    "\n",
    "#Validate with best iteration\n",
    "#def validate_best(saved_model,x_valid,y_valid_target):\n",
    "    #load model to predict on validation data\n",
    "#    bst = lgb.Booster(model_file=saved_model)\n",
    "#    y_pred_valid = bst.predict(x_valid,num_iteration=gbm.best_iteration)\n",
    "    #evaluate on validation data\n",
    "#    auc_loaded_model = roc_auc_score(y_valid_target,y_pred_valid)\n",
    "#    print(f\"Validation - The ROC AUC of model's prediction is: {auc_loaded_model}\")\n",
    "#    return bst,y_pred_valid,auc_loaded_model\n",
    "\n",
    "#Check final model against test data\n",
    "def test_final_model(saved_model,x_test,y_test_target):\n",
    "    #load model to predict on test data\n",
    "    bst = lgb.Booster(model_file=saved_model)\n",
    "    # Now we evaluate on the test dataset\n",
    "    y_pred_test = bst.predict(x_test)\n",
    "    #evaluate on validation data\n",
    "    auc_test_model = roc_auc_score(y_test_target,y_pred_test)\n",
    "    print(f\"Test - The ROC AUC of model's prediction is: {auc_test_model}\")\n",
    "    return bst,y_pred_test,auc_test_model\n",
    "\n",
    "def full_sample_model(params,lgb_train,num_boost,valid_set,feature_num,stopping_rounds,data_full_sample,y_full_sample,learning_param):\n",
    "    #First rounds\n",
    "    \n",
    "    gbm,y_pred_full1,auc_full_model1 = train_first_rounds(params,lgb_train,num_boost,valid_set,feature_num,data_full_sample,y_full_sample)\n",
    "\n",
    "    #Second rounds\n",
    "    prev_model = gbm\n",
    "    gbm,y_pred_full2,auc_full_model2 = train_second_rounds(params,lgb_train,num_boost,prev_model,valid_set,feature_num,data_full_sample,y_full_sample,learning_param)\n",
    "\n",
    "    #Third rounds\n",
    "    prev_model = gbm\n",
    "    gbm,y_pred_full3,auc_full_model3 = train_third_rounds(params,lgb_train,num_boost,prev_model,valid_set,feature_num,stopping_rounds,data_full_sample,y_full_sample)\n",
    "\n",
    "    return gbm\n",
    "    \n",
    "\n",
    "#Finally we run the model on the full dataset\n",
    "def full_sample_predict(saved_model,data_full_sample,y_full_sample):\n",
    "    #Load the saved model\n",
    "    bst = lgb.Booster(model_file=saved_model)\n",
    "    #Now we evaluate on the full sample\n",
    "    y_pred_final = bst.predict(data_full_sample)\n",
    "    #Full sample predicitons\n",
    "    full_sample_preds = pd.DataFrame(y_pred_final,index=data_5d.index)\n",
    "    #evaluate on validation data\n",
    "    auc_full_model = roc_auc_score(y_full_sample,y_pred_final)\n",
    "    print(f\"Test - The ROC AUC of model's prediction is: {auc_full_model}\")\n",
    "    return full_sample_preds,auc_full_model\n"
   ]
  },
  {
   "cell_type": "code",
   "execution_count": null,
   "id": "c1c608e0",
   "metadata": {},
   "outputs": [],
   "source": [
    "############################################################# 5 -day ahead model ########################################################################"
   ]
  },
  {
   "cell_type": "code",
   "execution_count": 589,
   "id": "b6a9bbd8",
   "metadata": {},
   "outputs": [],
   "source": [
    "#5-day ahead target series\n",
    "y_5d = pd.DataFrame([sp_binary1,sp_binary2,sp_binary3,sp_binary4,sp_binary5]).T\n",
    "y_5d.index = sp_return5.index\n",
    "y_5d.columns = ['sp_binary1','sp_binary2','sp_binary3','sp_binary4','sp_binary5']\n",
    "f_horizon = 5\n",
    "y_5d = y_5d.shift(-f_horizon) #5-day ahead return\n",
    "y_5d = y_5d.iloc[:-f_horizon,:] #Last 5 rows dropped\n",
    "#5-day ahead data\n",
    "data_5d = data_0.iloc[:-f_horizon,:] #Last 5 rows dropped\n",
    "#Merge date indices\n",
    "common_idx = y_5d.index.intersection(data_5d.index)\n",
    "data_5d = data_5d.loc[common_idx]\n",
    "#Split data\n",
    "train_size,valid_size,test_size = data_split_size(data_5d,0.75)\n",
    "x_train,y_train,x_valid,y_valid,x_test,y_test = data_split(data_5d,y_5d,train_size,valid_size,test_size)"
   ]
  },
  {
   "cell_type": "code",
   "execution_count": 622,
   "id": "510b49da",
   "metadata": {},
   "outputs": [
    {
     "name": "stdout",
     "output_type": "stream",
     "text": [
      "[LightGBM] [Warning] Unknown parameter: bossting_type\n",
      "[LightGBM] [Warning] Unknown parameter: ojective\n",
      "[LightGBM] [Warning] Unknown parameter: bossting_type\n",
      "[LightGBM] [Warning] Unknown parameter: ojective\n",
      "[LightGBM] [Warning] Auto-choosing col-wise multi-threading, the overhead of testing was 0.000947 seconds.\n",
      "You can set `force_col_wise=true` to remove the overhead.\n",
      "[1]\ttraining's binary_logloss: 0.192633\n",
      "[2]\ttraining's binary_logloss: 0.187096\n",
      "[3]\ttraining's binary_logloss: 0.181869\n",
      "[4]\ttraining's binary_logloss: 0.177574\n",
      "[5]\ttraining's binary_logloss: 0.174351\n",
      "[6]\ttraining's binary_logloss: 0.171313\n",
      "[7]\ttraining's binary_logloss: 0.168402\n",
      "[8]\ttraining's binary_logloss: 0.165988\n",
      "[9]\ttraining's binary_logloss: 0.163927\n",
      "[10]\ttraining's binary_logloss: 0.162222\n",
      "Training - The ROC AUC of model's prediction is: 0.8694497537855104\n",
      "Validation - The ROC AUC of model's prediction is: 0.6411388023537558\n",
      "[LightGBM] [Warning] Unknown parameter: bossting_type\n",
      "[LightGBM] [Warning] Unknown parameter: ojective\n",
      "[LightGBM] [Warning] Unknown parameter: bossting_type\n",
      "[LightGBM] [Warning] Unknown parameter: ojective\n",
      "[LightGBM] [Warning] Unknown parameter: bossting_type\n",
      "[LightGBM] [Warning] Unknown parameter: ojective\n",
      "[LightGBM] [Warning] Unknown parameter: bossting_type\n",
      "[LightGBM] [Warning] Unknown parameter: ojective\n",
      "[LightGBM] [Warning] Auto-choosing col-wise multi-threading, the overhead of testing was 0.000929 seconds.\n",
      "You can set `force_col_wise=true` to remove the overhead.\n",
      "[LightGBM] [Warning] Unknown parameter: bossting_type\n",
      "[LightGBM] [Warning] Unknown parameter: ojective\n",
      "[LightGBM] [Warning] Unknown parameter: bossting_type\n",
      "[LightGBM] [Warning] Unknown parameter: ojective\n",
      "Training - The ROC AUC of model's prediction is: 0.8995012444698498\n",
      "Validation - The ROC AUC of model's prediction is: 0.6396677050882658\n",
      "[LightGBM] [Warning] Unknown parameter: bossting_type\n",
      "[LightGBM] [Warning] Unknown parameter: ojective\n",
      "[LightGBM] [Warning] Unknown parameter: bossting_type\n",
      "[LightGBM] [Warning] Unknown parameter: ojective\n",
      "[LightGBM] [Warning] Unknown parameter: bossting_type\n",
      "[LightGBM] [Warning] Unknown parameter: ojective\n",
      "[LightGBM] [Warning] Unknown parameter: bossting_type\n",
      "[LightGBM] [Warning] Unknown parameter: ojective\n",
      "[LightGBM] [Warning] Unknown parameter: bossting_type\n",
      "[LightGBM] [Warning] Unknown parameter: ojective\n",
      "[LightGBM] [Warning] Unknown parameter: bossting_type\n",
      "[LightGBM] [Warning] Unknown parameter: ojective\n",
      "[LightGBM] [Warning] Unknown parameter: bossting_type\n",
      "[LightGBM] [Warning] Unknown parameter: ojective\n",
      "[LightGBM] [Warning] Auto-choosing col-wise multi-threading, the overhead of testing was 0.000912 seconds.\n",
      "You can set `force_col_wise=true` to remove the overhead.\n",
      "Training until validation scores don't improve for 5 rounds\n",
      "Early stopping, best iteration is:\n",
      "[21]\tvalid_0's binary_logloss: 0.135345\n",
      "Training - The ROC AUC of model's prediction is: 0.9000349076770094\n",
      "Validation - The ROC AUC of model's prediction is: 0.6399273104880582\n",
      "Test - The ROC AUC of model's prediction is: 0.6138517618469016\n"
     ]
    },
    {
     "ename": "TypeError",
     "evalue": "Training only accepts Dataset object",
     "output_type": "error",
     "traceback": [
      "\u001b[1;31m---------------------------------------------------------------------------\u001b[0m",
      "\u001b[1;31mTypeError\u001b[0m                                 Traceback (most recent call last)",
      "\u001b[1;32m<ipython-input-622-5626610f4b97>\u001b[0m in \u001b[0;36m<module>\u001b[1;34m\u001b[0m\n\u001b[0;32m     65\u001b[0m \u001b[0my_full_sample\u001b[0m \u001b[1;33m=\u001b[0m \u001b[0my_5d\u001b[0m\u001b[1;33m[\u001b[0m\u001b[1;34m'sp_binary1'\u001b[0m\u001b[1;33m]\u001b[0m\u001b[1;33m\u001b[0m\u001b[1;33m\u001b[0m\u001b[0m\n\u001b[0;32m     66\u001b[0m \u001b[1;33m\u001b[0m\u001b[0m\n\u001b[1;32m---> 67\u001b[1;33m \u001b[0mgbm\u001b[0m \u001b[1;33m=\u001b[0m \u001b[0mfull_sample_model\u001b[0m\u001b[1;33m(\u001b[0m\u001b[0mparams\u001b[0m\u001b[1;33m,\u001b[0m\u001b[0mlgb_train\u001b[0m\u001b[1;33m,\u001b[0m\u001b[0mnum_boost\u001b[0m\u001b[1;33m,\u001b[0m\u001b[0mvalid_set\u001b[0m\u001b[1;33m,\u001b[0m\u001b[0mfeature_num\u001b[0m\u001b[1;33m,\u001b[0m\u001b[0mstopping_rounds\u001b[0m\u001b[1;33m,\u001b[0m\u001b[0mdata_full_sample\u001b[0m\u001b[1;33m,\u001b[0m\u001b[0my_full_sample\u001b[0m\u001b[1;33m,\u001b[0m\u001b[0mlearning_param\u001b[0m\u001b[1;33m)\u001b[0m\u001b[1;33m\u001b[0m\u001b[1;33m\u001b[0m\u001b[0m\n\u001b[0m\u001b[0;32m     68\u001b[0m \u001b[0mgbm\u001b[0m\u001b[1;33m.\u001b[0m\u001b[0msave_model\u001b[0m\u001b[1;33m(\u001b[0m\u001b[1;34m'model_5d1_full_sample.txt'\u001b[0m\u001b[1;33m)\u001b[0m\u001b[1;33m\u001b[0m\u001b[1;33m\u001b[0m\u001b[0m\n\u001b[0;32m     69\u001b[0m \u001b[0msaved_model\u001b[0m \u001b[1;33m=\u001b[0m \u001b[1;34m'model_5d1_full_sample.txt'\u001b[0m\u001b[1;33m\u001b[0m\u001b[1;33m\u001b[0m\u001b[0m\n",
      "\u001b[1;32m<ipython-input-621-9079f88cb1a1>\u001b[0m in \u001b[0;36mfull_sample_model\u001b[1;34m(params, lgb_train, num_boost, valid_set, feature_num, stopping_rounds, data_full_sample, y_full_sample, learning_param)\u001b[0m\n\u001b[0;32m     79\u001b[0m     \u001b[1;31m#First rounds\u001b[0m\u001b[1;33m\u001b[0m\u001b[1;33m\u001b[0m\u001b[1;33m\u001b[0m\u001b[0m\n\u001b[0;32m     80\u001b[0m \u001b[1;33m\u001b[0m\u001b[0m\n\u001b[1;32m---> 81\u001b[1;33m     \u001b[0mgbm\u001b[0m\u001b[1;33m,\u001b[0m\u001b[0my_pred_full1\u001b[0m\u001b[1;33m,\u001b[0m\u001b[0mauc_full_model1\u001b[0m \u001b[1;33m=\u001b[0m \u001b[0mtrain_first_rounds\u001b[0m\u001b[1;33m(\u001b[0m\u001b[0mparams\u001b[0m\u001b[1;33m,\u001b[0m\u001b[0mlgb_train\u001b[0m\u001b[1;33m,\u001b[0m\u001b[0mnum_boost\u001b[0m\u001b[1;33m,\u001b[0m\u001b[0mvalid_set\u001b[0m\u001b[1;33m,\u001b[0m\u001b[0mfeature_num\u001b[0m\u001b[1;33m,\u001b[0m\u001b[0mdata_full_sample\u001b[0m\u001b[1;33m,\u001b[0m\u001b[0my_full_sample\u001b[0m\u001b[1;33m)\u001b[0m\u001b[1;33m\u001b[0m\u001b[1;33m\u001b[0m\u001b[0m\n\u001b[0m\u001b[0;32m     82\u001b[0m \u001b[1;33m\u001b[0m\u001b[0m\n\u001b[0;32m     83\u001b[0m     \u001b[1;31m#Second rounds\u001b[0m\u001b[1;33m\u001b[0m\u001b[1;33m\u001b[0m\u001b[1;33m\u001b[0m\u001b[0m\n",
      "\u001b[1;32m<ipython-input-621-9079f88cb1a1>\u001b[0m in \u001b[0;36mtrain_first_rounds\u001b[1;34m(params, lgb_train, num_boost, valid_set, feature_num, x_train, y_train_target)\u001b[0m\n\u001b[0;32m      1\u001b[0m \u001b[1;31m#First rounds\u001b[0m\u001b[1;33m\u001b[0m\u001b[1;33m\u001b[0m\u001b[1;33m\u001b[0m\u001b[0m\n\u001b[0;32m      2\u001b[0m \u001b[1;32mdef\u001b[0m \u001b[0mtrain_first_rounds\u001b[0m\u001b[1;33m(\u001b[0m\u001b[0mparams\u001b[0m\u001b[1;33m,\u001b[0m\u001b[0mlgb_train\u001b[0m\u001b[1;33m,\u001b[0m\u001b[0mnum_boost\u001b[0m\u001b[1;33m,\u001b[0m\u001b[0mvalid_set\u001b[0m\u001b[1;33m,\u001b[0m\u001b[0mfeature_num\u001b[0m\u001b[1;33m,\u001b[0m\u001b[0mx_train\u001b[0m\u001b[1;33m,\u001b[0m\u001b[0my_train_target\u001b[0m\u001b[1;33m)\u001b[0m\u001b[1;33m:\u001b[0m\u001b[1;33m\u001b[0m\u001b[1;33m\u001b[0m\u001b[0m\n\u001b[1;32m----> 3\u001b[1;33m     gbm = lgb.train(params,\n\u001b[0m\u001b[0;32m      4\u001b[0m                 \u001b[0mlgb_train\u001b[0m\u001b[1;33m,\u001b[0m\u001b[1;33m\u001b[0m\u001b[1;33m\u001b[0m\u001b[0m\n\u001b[0;32m      5\u001b[0m                 \u001b[0mnum_boost_round\u001b[0m\u001b[1;33m=\u001b[0m\u001b[0mnum_boost\u001b[0m\u001b[1;33m,\u001b[0m\u001b[1;33m\u001b[0m\u001b[1;33m\u001b[0m\u001b[0m\n",
      "\u001b[1;32mc:\\ProgramData\\Anaconda3\\lib\\site-packages\\lightgbm\\engine.py\u001b[0m in \u001b[0;36mtrain\u001b[1;34m(params, train_set, num_boost_round, valid_sets, valid_names, fobj, feval, init_model, feature_name, categorical_feature, early_stopping_rounds, evals_result, verbose_eval, learning_rates, keep_training_booster, callbacks)\u001b[0m\n\u001b[0;32m    221\u001b[0m                 \u001b[1;32mcontinue\u001b[0m\u001b[1;33m\u001b[0m\u001b[1;33m\u001b[0m\u001b[0m\n\u001b[0;32m    222\u001b[0m             \u001b[1;32mif\u001b[0m \u001b[1;32mnot\u001b[0m \u001b[0misinstance\u001b[0m\u001b[1;33m(\u001b[0m\u001b[0mvalid_data\u001b[0m\u001b[1;33m,\u001b[0m \u001b[0mDataset\u001b[0m\u001b[1;33m)\u001b[0m\u001b[1;33m:\u001b[0m\u001b[1;33m\u001b[0m\u001b[1;33m\u001b[0m\u001b[0m\n\u001b[1;32m--> 223\u001b[1;33m                 \u001b[1;32mraise\u001b[0m \u001b[0mTypeError\u001b[0m\u001b[1;33m(\u001b[0m\u001b[1;34m\"Training only accepts Dataset object\"\u001b[0m\u001b[1;33m)\u001b[0m\u001b[1;33m\u001b[0m\u001b[1;33m\u001b[0m\u001b[0m\n\u001b[0m\u001b[0;32m    224\u001b[0m             \u001b[0mreduced_valid_sets\u001b[0m\u001b[1;33m.\u001b[0m\u001b[0mappend\u001b[0m\u001b[1;33m(\u001b[0m\u001b[0mvalid_data\u001b[0m\u001b[1;33m.\u001b[0m\u001b[0m_update_params\u001b[0m\u001b[1;33m(\u001b[0m\u001b[0mparams\u001b[0m\u001b[1;33m)\u001b[0m\u001b[1;33m.\u001b[0m\u001b[0mset_reference\u001b[0m\u001b[1;33m(\u001b[0m\u001b[0mtrain_set\u001b[0m\u001b[1;33m)\u001b[0m\u001b[1;33m)\u001b[0m\u001b[1;33m\u001b[0m\u001b[1;33m\u001b[0m\u001b[0m\n\u001b[0;32m    225\u001b[0m             \u001b[1;32mif\u001b[0m \u001b[0mvalid_names\u001b[0m \u001b[1;32mis\u001b[0m \u001b[1;32mnot\u001b[0m \u001b[1;32mNone\u001b[0m \u001b[1;32mand\u001b[0m \u001b[0mlen\u001b[0m\u001b[1;33m(\u001b[0m\u001b[0mvalid_names\u001b[0m\u001b[1;33m)\u001b[0m \u001b[1;33m>\u001b[0m \u001b[0mi\u001b[0m\u001b[1;33m:\u001b[0m\u001b[1;33m\u001b[0m\u001b[1;33m\u001b[0m\u001b[0m\n",
      "\u001b[1;31mTypeError\u001b[0m: Training only accepts Dataset object"
     ]
    }
   ],
   "source": [
    "#config\n",
    "params = {\n",
    "    'bossting_type': 'gbdt',\n",
    "    'ojective': 'binary',\n",
    "    'metric': 'binary_logloss',\n",
    "    'num_leaves':20, \n",
    "    'learning_rate': 0.05,\n",
    "    'feature_fraction': 0.9,\n",
    "    'bagging_fraction':0.7,\n",
    "    'bagging_freq':5,\n",
    "    'verbose': 0\n",
    "}\n",
    "###### 5-day ahead model 1 ######\n",
    "\n",
    "#create a dataset for lightgbm\n",
    "lgb_train= lgb.Dataset(x_train,y_train['sp_binary1'],free_raw_data=False)\n",
    "lgb_eval = lgb.Dataset(x_valid,y_valid['sp_binary1'],reference=lgb_train,free_raw_data=False)\n",
    "y_train_target = y_train['sp_binary1']\n",
    "y_valid_target = y_valid['sp_binary1']\n",
    "y_test_target = y_test['sp_binary1']\n",
    "#other lgbm inputs\n",
    "valid_set = lgb_train\n",
    "num_boost=10\n",
    "\n",
    "######Start training first 10 rounds ######\n",
    "\n",
    "gbm,y_pred_train,auc_train_model = train_first_rounds(params,lgb_train,num_boost,valid_set,feature_num,x_train,y_train_target)\n",
    "gbm.save_model('model_5d1.txt')\n",
    "saved_model = 'model_5d1.txt'\n",
    "\n",
    "######Validate ######\n",
    "\n",
    "bst,y_pred_valid,auc_loaded_model = validate(saved_model,x_valid,y_valid_target)\n",
    "\n",
    "######Start training next 10 rounds with learning decay ######\n",
    "prev_model = gbm\n",
    "valid_set = lgb_eval\n",
    "learning_param = 0.05\n",
    "gbm,y_pred_train,auc_train_model = train_second_rounds(params,lgb_train,num_boost,prev_model,valid_set,feature_num,x_train,y_train_target,learning_param)\n",
    "gbm.save_model('model_5d1_learning_decay.txt')\n",
    "saved_model = 'model_5d1_learning_decay.txt'\n",
    "\n",
    "######Validate ######\n",
    "\n",
    "bst,y_pred_valid,auc_loaded_model = validate(saved_model,x_valid,y_valid_target)\n",
    "\n",
    "######Start training next 10 rounds with early stopping ######\n",
    "prev_model = gbm\n",
    "stopping_rounds = 5\n",
    "gbm,y_pred_train,auc_train_model = train_third_rounds(params,lgb_train,num_boost,prev_model,valid_set,feature_num,stopping_rounds,x_train,y_train_target)\n",
    "gbm.save_model('model_5d1_early_stopping.txt')\n",
    "saved_model = 'model_5d1_early_stopping.txt'\n",
    "\n",
    "######Validate ######\n",
    "bst,y_pred_valid,auc_loaded_model = validate(saved_model,x_valid,y_valid_target)\n",
    "\n",
    "######Test ########\n",
    "bst,y_pred_test,auc_test_model = test_final_model(saved_model,x_test,y_test_target)\n",
    "\n",
    "######Full sample model run ######\n",
    "lgb_train = lgb.Dataset(data_5d,y_5d['sp_binary1'],free_raw_data=False)\n",
    "\n",
    "valid_set = data_5d\n",
    "data_full_sample = data_5d\n",
    "y_full_sample = y_5d['sp_binary1']\n",
    "\n",
    "gbm = full_sample_model(params,lgb_train,num_boost,valid_set,feature_num,stopping_rounds,data_full_sample,y_full_sample,learning_param)\n",
    "gbm.save_model('model_5d1_full_sample.txt')\n",
    "saved_model = 'model_5d1_full_sample.txt'\n",
    "\n",
    "full_sample_preds,auc_full_model =  full_sample_predict(saved_model,data_full_sample,y_full_sample)\n",
    "\n",
    "######New data comes in #######"
   ]
  },
  {
   "cell_type": "code",
   "execution_count": 613,
   "metadata": {},
   "outputs": [
    {
     "name": "stderr",
     "output_type": "stream",
     "text": [
      "LightGBM binary classifier with TreeExplainer shap values output has changed to a list of ndarray\n"
     ]
    },
    {
     "data": {
      "image/png": "[encoded data removed]",
      "text/plain": [
       "<Figure size 576x684 with 1 Axes>"
      ]
     },
     "metadata": {
      "needs_background": "light"
     },
     "output_type": "display_data"
    }
   ],
   "source": [
    "#Features to watch out for\n",
    "#print(f\"Fetaure importances: {list(gbm.feature_importance())}\")\n",
    "#SHAP values\n",
    "gbm.params['objective'] = 'binary'\n",
    "explainer = shap.TreeExplainer(gbm)\n",
    "shap_values = explainer.shap_values(data_5d)\n",
    "#print(f\"shap values: {shap_values}\")\n",
    "#Average shap values\n",
    "shap.summary_plot(shap_values,data_5d,feature_names=f_names)"
   ]
  },
  {
   "cell_type": "code",
   "execution_count": null,
   "id": "4bd6d240",
   "metadata": {},
   "outputs": [],
   "source": [
    "####################################################Run final model on full dataset#########################################################"
   ]
  },
  {
   "cell_type": "code",
   "execution_count": null,
   "id": "6c97da10",
   "metadata": {},
   "outputs": [],
   "source": []
  },
  {
   "cell_type": "code",
   "execution_count": null,
   "id": "584acb11",
   "metadata": {},
   "outputs": [],
   "source": [
    "####################################################Update model on new data#########################################################"
   ]
  },
  {
   "cell_type": "code",
   "execution_count": 469,
   "id": "ead7331d",
   "metadata": {},
   "outputs": [],
   "source": [
    "#Fresh data comes in\n",
    "y_pred_update = bst.predict(data_0)"
   ]
  },
  {
   "cell_type": "code",
   "execution_count": 525,
   "id": "5ad89723",
   "metadata": {},
   "outputs": [
    {
     "data": {
      "text/html": [
       "<div>\n",
       "<style scoped>\n",
       "    .dataframe tbody tr th:only-of-type {\n",
       "        vertical-align: middle;\n",
       "    }\n",
       "\n",
       "    .dataframe tbody tr th {\n",
       "        vertical-align: top;\n",
       "    }\n",
       "\n",
       "    .dataframe thead th {\n",
       "        text-align: right;\n",
       "    }\n",
       "</style>\n",
       "<table border=\"1\" class=\"dataframe\">\n",
       "  <thead>\n",
       "    <tr style=\"text-align: right;\">\n",
       "      <th></th>\n",
       "      <th>0</th>\n",
       "    </tr>\n",
       "  </thead>\n",
       "  <tbody>\n",
       "    <tr>\n",
       "      <th>2023-02-02</th>\n",
       "      <td>0.035063</td>\n",
       "    </tr>\n",
       "    <tr>\n",
       "      <th>2023-02-03</th>\n",
       "      <td>0.034032</td>\n",
       "    </tr>\n",
       "    <tr>\n",
       "      <th>2023-02-04</th>\n",
       "      <td>0.032815</td>\n",
       "    </tr>\n",
       "    <tr>\n",
       "      <th>2023-02-05</th>\n",
       "      <td>0.043059</td>\n",
       "    </tr>\n",
       "    <tr>\n",
       "      <th>2023-02-06</th>\n",
       "      <td>0.033716</td>\n",
       "    </tr>\n",
       "    <tr>\n",
       "      <th>2023-02-07</th>\n",
       "      <td>0.032499</td>\n",
       "    </tr>\n",
       "    <tr>\n",
       "      <th>2023-02-08</th>\n",
       "      <td>0.033846</td>\n",
       "    </tr>\n",
       "  </tbody>\n",
       "</table>\n",
       "</div>"
      ],
      "text/plain": [
       "                   0\n",
       "2023-02-02  0.035063\n",
       "2023-02-03  0.034032\n",
       "2023-02-04  0.032815\n",
       "2023-02-05  0.043059\n",
       "2023-02-06  0.033716\n",
       "2023-02-07  0.032499\n",
       "2023-02-08  0.033846"
      ]
     },
     "execution_count": 525,
     "metadata": {},
     "output_type": "execute_result"
    }
   ],
   "source": [
    "#Get new dates\n",
    "new_days = (data_0.index[-1]-data_5d.index[-1]).days\n",
    "new_dates = []\n",
    "for x in range(1,new_days+1):\n",
    "    new_dates.append(data_5d.index[-1]+timedelta(days=x))\n",
    "\n",
    "new_dates\n",
    "#New estimates\n",
    "new_preds = pd.DataFrame(y_pred_update[-new_days:],index=new_dates)\n",
    "new_preds"
   ]
  },
  {
   "cell_type": "code",
   "execution_count": 544,
   "id": "02b624f6",
   "metadata": {},
   "outputs": [
    {
     "data": {
      "text/plain": [
       "Text(0.5, 1.0, 'Probability of return < 5th percentile in next 5 days')"
      ]
     },
     "execution_count": 544,
     "metadata": {},
     "output_type": "execute_result"
    },
    {
     "data": {
      "image/png": "[encoded data removed]",
      "text/plain": [
       "<Figure size 432x288 with 1 Axes>"
      ]
     },
     "metadata": {
      "needs_background": "light"
     },
     "output_type": "display_data"
    }
   ],
   "source": [
    "plt.plot(full_sample_preds.iloc[-20:],color='grey')\n",
    "plt.plot(new_preds,color='blue',label='data update')\n",
    "plt.legend()\n",
    "plt.xticks(rotation = 35)\n",
    "plt.title(f'Probability of return < {f_horizon}th percentile in next 5 days')"
   ]
  },
  {
   "cell_type": "code",
   "execution_count": 573,
   "id": "3ebaadb1",
   "metadata": {},
   "outputs": [
    {
     "data": {
      "text/plain": [
       "Text(0.5, 1.0, 'Probability of return < 5th percentile on out of sample dates')"
      ]
     },
     "execution_count": 573,
     "metadata": {},
     "output_type": "execute_result"
    },
    {
     "data": {
      "image/png": "[encoded data removed]",
      "text/plain": [
       "<Figure size 432x288 with 1 Axes>"
      ]
     },
     "metadata": {
      "needs_background": "light"
     },
     "output_type": "display_data"
    }
   ],
   "source": [
    "#Out of sample forecasts\n",
    "oos_dates = []\n",
    "for x in range(1,f_horizon+1):\n",
    "    oos_dates.append(data_0.index[-1]+timedelta(days=x))\n",
    "\n",
    "oos_dates = pd.to_datetime(oos_dates)\n",
    "oos_dates = oos_dates.strftime('%Y-%m-%d')\n",
    "oof_update = pd.DataFrame(y_pred_update[-f_horizon:],index=oos_dates)\n",
    "oof_update.columns = ['p(r < 5th percentile)']\n",
    "plt.plot(oof_update,color='blue')\n",
    "plt.xticks(rotation = 35)\n",
    "plt.xlabel('Out of sample dates')\n",
    "plt.title(f'Probability of return < {f_horizon}th percentile on out of sample dates')\n",
    "\n"
   ]
  }
 ],
 "metadata": {
  "kernelspec": {
   "display_name": "base",
   "language": "python",
   "name": "python3"
  },
  "language_info": {
   "codemirror_mode": {
    "name": "ipython",
    "version": 3
   },
   "file_extension": ".py",
   "mimetype": "text/x-python",
   "name": "python",
   "nbconvert_exporter": "python",
   "pygments_lexer": "ipython3",
   "version": "3.8.8"
  },
  "latex_envs": {
   "LaTeX_envs_menu_present": true,
   "autoclose": false,
   "autocomplete": true,
   "bibliofile": "biblio.bib",
   "cite_by": "apalike",
   "current_citInitial": 1,
   "eqLabelWithNumbers": true,
   "eqNumInitial": 1,
   "hotkeys": {
    "equation": "Ctrl-E",
    "itemize": "Ctrl-I"
   },
   "labels_anchors": false,
   "latex_user_defs": false,
   "report_style_numbering": false,
   "user_envs_cfg": false
  },
  "nbTranslate": {
   "displayLangs": [
    "*"
   ],
   "hotkey": "alt-t",
   "langInMainMenu": true,
   "sourceLang": "en",
   "targetLang": "fr",
   "useGoogleTranslate": true
  },
  "toc": {
   "base_numbering": 1,
   "nav_menu": {},
   "number_sections": true,
   "sideBar": true,
   "skip_h1_title": false,
   "title_cell": "Table of Contents",
   "title_sidebar": "Contents",
   "toc_cell": false,
   "toc_position": {},
   "toc_section_display": true,
   "toc_window_display": false
  },
  "vscode": {
   "interpreter": {
    "hash": "ad2bdc8ecc057115af97d19610ffacc2b4e99fae6737bb82f5d7fb13d2f2c186"
   }
  }
 },
 "nbformat": 4,
 "nbformat_minor": 5
}
