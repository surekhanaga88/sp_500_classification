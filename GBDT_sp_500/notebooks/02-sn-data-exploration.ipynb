{
 "cells": [
  {
   "cell_type": "code",
   "execution_count": 6,
   "metadata": {},
   "outputs": [],
   "source": [
    "import pandas as pd\n",
    "import numpy as np\n",
    "import matplotlib.pyplot as plt\n",
    "from matplotlib import mlab\n",
    "import seaborn as sns\n",
    "import yfinance as yf\n",
    "from fredapi import Fred\n",
    "from dotenv import load_dotenv\n",
    "import os\n",
    "import sys\n",
    "import src\n",
    "from src.data import download\n",
    "from src.visualization import eda,results\n",
    "from src.custom_funcs import helper_funcs\n",
    "from src.features import create_features\n",
    "\n"
   ]
  },
  {
   "cell_type": "code",
   "execution_count": null,
   "metadata": {},
   "outputs": [],
   "source": [
    "#Download data from FRED API and Yahoo\n",
    "load_dotenv() #Create environment variable\n",
    "API_KEY = os.getenv(\"API_KEY\") #Get API_KEY from .env file\n",
    "fred = Fred(api_key = API_KEY)\n",
    "###*****Don't change order of the series names*****###\n",
    "series_fred = ['BAMLC0A0CM','BAMLH0A0HYM2','DCOILWTICO','DTB3','DGS5','DGS10','DGS30','T5YIE','T10YIE','T10Y2Y','T10Y3M','VIXCLS','DEXUSEU','DEXJPUS','DEXUSUK','DEXCHUS']\n",
    "start_fred = '1/1/1995'\n",
    "ticker_yf = '^GSPC'\n",
    "start_yf = '1995-01-01'\n",
    "interval='1d'\n",
    "series_names = ['ig_spread','hy_spread','wti','treas_3m','treas_5y','treas_10y','treas_30y','binf_5y','binf_10y','y10_y2','y10_m3','vix','eur','jpy','gbp','cny']\n",
    "\n",
    "\n",
    "fred_series,sp_data = download.download_data(fred,series_fred,start_fred,ticker_yf,start_yf,interval,series_names)"
   ]
  },
  {
   "cell_type": "code",
   "execution_count": null,
   "metadata": {},
   "outputs": [],
   "source": [
    "#Time series and distribution\n",
    "eda.distribution_returns(sp_data)"
   ]
  },
  {
   "cell_type": "code",
   "execution_count": null,
   "metadata": {},
   "outputs": [],
   "source": [
    "#Scatter plot\n",
    "#Make features\n",
    "data_features,feature_num,sp_return,sp_return5,sp_return10,sp_return15 = create_features.derive_features(fred_series,sp_data)\n",
    "#Create clean common date indices\n",
    "data_reindex = helper_funcs.reindex_features_data(data_features,0,sp_return) # 0 -> no forecast horizon - only sp_return\n",
    "#Scatter\n",
    "eda.scatter_plot(data_reindex,sp_return)\n"
   ]
  },
  {
   "cell_type": "code",
   "execution_count": null,
   "metadata": {},
   "outputs": [],
   "source": [
    "#percentile plot\n",
    "sorted = np.sort(sp_return)\n",
    "\n",
    "p = np.array([0,25,50,75,100])\n",
    "\n",
    "perc = np.percentile(sorted,p)\n",
    "\n",
    "plt.plot(sorted)\n",
    "\n",
    "plt.plot((len(sorted)-1) * p/100.,perc,marker='o')\n",
    "\n",
    "plt.xticks((len(sorted)-1) * p/100.,map(str,p))\n",
    "\n",
    "plt.show()"
   ]
  }
 ],
 "metadata": {
  "kernelspec": {
   "display_name": "base",
   "language": "python",
   "name": "python3"
  },
  "language_info": {
   "codemirror_mode": {
    "name": "ipython",
    "version": 3
   },
   "file_extension": ".py",
   "mimetype": "text/x-python",
   "name": "python",
   "nbconvert_exporter": "python",
   "pygments_lexer": "ipython3",
   "version": "3.8.8"
  },
  "orig_nbformat": 4,
  "vscode": {
   "interpreter": {
    "hash": "ad2bdc8ecc057115af97d19610ffacc2b4e99fae6737bb82f5d7fb13d2f2c186"
   }
  }
 },
 "nbformat": 4,
 "nbformat_minor": 2
}
