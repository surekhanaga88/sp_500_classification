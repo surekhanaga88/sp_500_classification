{
 "cells": [
  {
   "cell_type": "code",
   "execution_count": 2,
   "id": "47be9a0f",
   "metadata": {},
   "outputs": [],
   "source": [
    "import pandas as pd\n",
    "import numpy as np\n",
    "from fredapi import Fred\n",
    "from dotenv import load_dotenv\n",
    "import os\n",
    "import src\n",
    "from src.data import download\n",
    "from src.features import create_features\n",
    "from src.models import params,predict_model,train_model,train_predict\n",
    "from src.visualization import eda,results\n",
    "from src.custom_funcs import helper_funcs\n",
    "import importlib"
   ]
  },
  {
   "cell_type": "code",
   "execution_count": 3,
   "id": "f6b4fea0",
   "metadata": {},
   "outputs": [
    {
     "name": "stdout",
     "output_type": "stream",
     "text": [
      "[*********************100%***********************]  1 of 1 completed\n"
     ]
    }
   ],
   "source": [
    "#Download data from FRED API\n",
    "load_dotenv() #Create environment variable\n",
    "API_KEY = os.getenv(\"API_KEY\") #Get API_KEY from .env file\n",
    "fred = Fred(api_key = API_KEY)\n",
    "###*****Don't change order of the series names*****###\n",
    "series_fred = ['BAMLC0A0CM','BAMLH0A0HYM2','DCOILWTICO','DTB3','DGS5','DGS10','DGS30','T5YIE','T10YIE','T10Y2Y','T10Y3M','VIXCLS','DEXUSEU','DEXJPUS','DEXUSUK','DEXCHUS']\n",
    "start_fred = '1/1/1995'\n",
    "ticker_yf = '^GSPC'\n",
    "start_yf = '1995-01-01'\n",
    "interval='1d'\n",
    "series_names = ['ig_spread','hy_spread','wti','treas_3m','treas_5y','treas_10y','treas_30y','binf_5y','binf_10y','y10_y2','y10_m3','vix','eur','jpy','gbp','cny']\n",
    "\n",
    "fred_series,sp_data = download.download_data(fred,series_fred,start_fred,ticker_yf,start_yf,interval,series_names)\n",
    "\n"
   ]
  },
  {
   "cell_type": "code",
   "execution_count": 4,
   "id": "6b57b1e0",
   "metadata": {},
   "outputs": [],
   "source": [
    "\"\"\" Features:\n",
    "1. S&P 500 returns variance - 5 day,10 day and 21 day\n",
    "2. IG and HY spread\n",
    "3. Change in IG and HY spread in bps\n",
    "4. Change in crude oil prices\n",
    "5. 3m,5y,10y and 30y yields\n",
    "6. Change in 3m,5y,10y,30y in bps\n",
    "7. 5y and 10y breakeven inflation\n",
    "8. Change in 5y,10y breakeven in bps\n",
    "9. 2s10s,3m10s\n",
    "10. Change in 2s10s,3m10s\n",
    "11. VIX and change in VIX\n",
    "12. Change in currencies\n",
    "\"\"\"\n",
    "data_0,feature_num,sp_return,sp_return5,sp_return10,sp_return15 = create_features.derive_features(fred_series,sp_data)\n"
   ]
  },
  {
   "cell_type": "code",
   "execution_count": 5,
   "id": "b6a9bbd8",
   "metadata": {},
   "outputs": [],
   "source": [
    "#Create target series\n",
    "percentile_list = [5,10,15,20,25]\n",
    "\n",
    "y_5d = helper_funcs.create_target_series(sp_return5,percentile_list,f_horizon=5)\n",
    "y_10d = helper_funcs.create_target_series(sp_return10,percentile_list,f_horizon=10)\n",
    "y_15d = helper_funcs.create_target_series(sp_return15,percentile_list,f_horizon=15)\n",
    "#Reindex features data\n",
    "data_5d = helper_funcs.reindex_features_data(data_0,5,y_5d)\n",
    "data_10d = helper_funcs.reindex_features_data(data_0,10,y_10d)\n",
    "data_15d = helper_funcs.reindex_features_data(data_0,15,y_15d)\n",
    "#Create feature list\n",
    "f_names = ['sp_var5','sp_var10','sp_var21','ig_spread','ig_change','hy_spread','hy_change','wti_change','treas3m_change','treas5y_change','treas10y_change','treas30y_change','binf5_change','binf10_change','y10_y2','y10_m3','y10_m3change','y10_y2change','vix_change','eur_change','jpy_change','gbp_change','cny_change']\n",
    "features_names = pd.DataFrame(f_names,feature_num)\n"
   ]
  },
  {
   "cell_type": "code",
   "execution_count": null,
   "id": "42740e27",
   "metadata": {},
   "outputs": [],
   "source": [
    "############################################################# Example:  5 -day ahead model ########################################################################"
   ]
  },
  {
   "cell_type": "code",
   "execution_count": 6,
   "id": "f0f80565",
   "metadata": {},
   "outputs": [],
   "source": [
    "#Train-test split\n",
    "train_size,valid_size,test_size = helper_funcs.data_split_size(data_5d,0.75)\n",
    "x_train,y_train,x_valid,y_valid,x_test,y_test = helper_funcs.data_split(data_5d,y_5d,train_size,valid_size,test_size)"
   ]
  },
  {
   "cell_type": "code",
   "execution_count": null,
   "id": "8dcc2a0a",
   "metadata": {},
   "outputs": [],
   "source": [
    "#col_index = 0 (5 percentile),1 (10 percentile),2 (15 percentile),3 (20 percentile),4 (25 percentile)\n",
    "importlib.reload(params) #IMP: Reload the params.py script before using the attribute params_common\n",
    "params = params.params_common\n",
    "p=5\n",
    "col_index=0\n",
    "\n",
    "train_predict.train_test_pickle(x_train,x_valid,y_train,y_valid,x_test,y_test,col_index=col_index,num_boost=10,f_horizon=5,params=params,feature_num=feature_num,model_name = 'model_5d1',full_sample_data = data_5d,full_sample_y = y_5d,full_data = data_0,f_names = f_names,percentile= p)\n"
   ]
  },
  {
   "cell_type": "code",
   "execution_count": null,
   "id": "b383e6a1",
   "metadata": {},
   "outputs": [],
   "source": [
    "############################################################# All models in a loop ########################################################################"
   ]
  },
  {
   "cell_type": "code",
   "execution_count": null,
   "id": "81181806",
   "metadata": {},
   "outputs": [],
   "source": [
    "x_data = [data_5d,data_10d,data_15d]\n",
    "targets_list = [y_5d,y_10d,y_15d]\n",
    "horizon_list = [5,10,15]\n",
    "percentile_list = [5,10,15,20,25]\n",
    "full_data=data_0\n",
    "params = params.params_common\n",
    "\n",
    "for x_data,y_data,f_horizon in zip(x_data,targets_list,horizon_list):\n",
    "    for col_index,percentile in zip(range(5),percentile_list):\n",
    "        model_name = 'model_' + str(f_horizon) + 'd'+ str(col_index+1)\n",
    "        train_size,valid_size,test_size = helper_funcs.data_split_size(x_data,0.75)\n",
    "        x_train,y_train,x_valid,y_valid,x_test,y_test = helper_funcs.data_split(x_data,y_data,train_size,valid_size,test_size)\n",
    "        helper_funcs.train_test_pickle(x_train,x_valid,y_train,y_valid,x_test,y_test,col_index=col_index,num_boost=10,f_horizon=f_horizon,params=params,feature_num=feature_num,model_name = model_name,full_sample_data = x_data,full_sample_y = y_data,full_data = full_data,f_names = f_names,percentile=percentile)"
   ]
  }
 ],
 "metadata": {
  "kernelspec": {
   "display_name": "base",
   "language": "python",
   "name": "python3"
  },
  "language_info": {
   "codemirror_mode": {
    "name": "ipython",
    "version": 3
   },
   "file_extension": ".py",
   "mimetype": "text/x-python",
   "name": "python",
   "nbconvert_exporter": "python",
   "pygments_lexer": "ipython3",
   "version": "3.8.8"
  },
  "latex_envs": {
   "LaTeX_envs_menu_present": true,
   "autoclose": false,
   "autocomplete": true,
   "bibliofile": "biblio.bib",
   "cite_by": "apalike",
   "current_citInitial": 1,
   "eqLabelWithNumbers": true,
   "eqNumInitial": 1,
   "hotkeys": {
    "equation": "Ctrl-E",
    "itemize": "Ctrl-I"
   },
   "labels_anchors": false,
   "latex_user_defs": false,
   "report_style_numbering": false,
   "user_envs_cfg": false
  },
  "nbTranslate": {
   "displayLangs": [
    "*"
   ],
   "hotkey": "alt-t",
   "langInMainMenu": true,
   "sourceLang": "en",
   "targetLang": "fr",
   "useGoogleTranslate": true
  },
  "toc": {
   "base_numbering": 1,
   "nav_menu": {},
   "number_sections": true,
   "sideBar": true,
   "skip_h1_title": false,
   "title_cell": "Table of Contents",
   "title_sidebar": "Contents",
   "toc_cell": false,
   "toc_position": {},
   "toc_section_display": true,
   "toc_window_display": false
  },
  "vscode": {
   "interpreter": {
    "hash": "ad2bdc8ecc057115af97d19610ffacc2b4e99fae6737bb82f5d7fb13d2f2c186"
   }
  }
 },
 "nbformat": 4,
 "nbformat_minor": 5
}
